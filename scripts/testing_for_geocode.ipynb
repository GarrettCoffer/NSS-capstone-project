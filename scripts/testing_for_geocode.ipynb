{
 "cells": [
  {
   "cell_type": "code",
   "execution_count": 1,
   "id": "5d9054b9-7687-48bd-bc79-915576167c17",
   "metadata": {},
   "outputs": [],
   "source": [
    "from datetime import datetime as dt\n",
    "from datetime import timedelta\n",
    "import pandas as pd"
   ]
  },
  {
   "cell_type": "code",
   "execution_count": 111,
   "id": "4edd93df-16d1-47f4-bd2e-acb5e4fa9ef8",
   "metadata": {},
   "outputs": [],
   "source": [
    "timestart = '2025-04-05 00:00:00'\n",
    "timeend = '2025-04-07 00:00:00'\n",
    "\n",
    "input_file = '../data/active_dispatch_4_5.csv'\n",
    "output_file = '../data/active_dispatch_ticks.csv'"
   ]
  },
  {
   "cell_type": "code",
   "execution_count": 113,
   "id": "1954c858-982e-4b48-876f-84418868b30c",
   "metadata": {},
   "outputs": [],
   "source": [
    "tick = 1\n",
    "current_tick_time = dt.strptime(timestart, \"%Y-%m-%d %H:%M:%S\")\n",
    "end_tick_time = dt.strptime(timeend, \"%Y-%m-%d %H:%M:%S\")"
   ]
  },
  {
   "cell_type": "code",
   "execution_count": 115,
   "id": "b957bd31-62c6-4658-a42a-5410f15ed656",
   "metadata": {},
   "outputs": [],
   "source": [
    "processed_ticks = pd.DataFrame(columns = ['tick','code','date','hr','time','address','ert_mins','lat','lon'])  # (Estimated Resolution Time: ert) calculated from last_updated"
   ]
  },
  {
   "cell_type": "code",
   "execution_count": 117,
   "id": "166f5898-8b56-4a2c-830e-74e0e54fdc0a",
   "metadata": {},
   "outputs": [],
   "source": [
    "# next steps:\n",
    "# open the current csv\n",
    "# loop through each tick, performing a query on if the current tick is between the start (date & time as datetime) and estimated resolved (as start + ert_mins)\n",
    "     # whatever the query results are, add them to the dataframe.\n",
    "     # if blank, ignore?  this dataset will only have a blank in the beginning."
   ]
  },
  {
   "cell_type": "code",
   "execution_count": 119,
   "id": "23dbeada-4b90-4416-8c7b-0e137582a808",
   "metadata": {},
   "outputs": [],
   "source": [
    "ad = pd.read_csv(input_file)"
   ]
  },
  {
   "cell_type": "code",
   "execution_count": 121,
   "id": "9a7da643-260d-4626-b348-c6e8adb33558",
   "metadata": {},
   "outputs": [],
   "source": [
    "how_many_minutes = 5 # how long each tick will be"
   ]
  },
  {
   "cell_type": "code",
   "execution_count": 123,
   "id": "7b77a188-f479-46da-98d0-28cd1e17d48c",
   "metadata": {},
   "outputs": [],
   "source": [
    "ad['date_and_time'] = ad['date'] + ' ' + ad['time']\n",
    "ad['date_and_time'] = pd.to_datetime(ad['date_and_time'])"
   ]
  },
  {
   "cell_type": "code",
   "execution_count": 125,
   "id": "a7e981bf-f4c8-4b8d-beb6-3ca81307fc21",
   "metadata": {},
   "outputs": [],
   "source": [
    "for index, row in ad.iterrows() :\n",
    "    ad.loc[index,'estimated_resolved_time'] = row['date_and_time'] + timedelta(minutes = row['ert_mins'])"
   ]
  },
  {
   "cell_type": "code",
   "execution_count": 127,
   "id": "f8565e68-fc52-4023-8091-1860fae8d651",
   "metadata": {},
   "outputs": [
    {
     "name": "stderr",
     "output_type": "stream",
     "text": [
      "C:\\Users\\Garrett\\AppData\\Local\\Temp\\ipykernel_5104\\78851439.py:7: FutureWarning: The behavior of DataFrame concatenation with empty or all-NA entries is deprecated. In a future version, this will no longer exclude empty or all-NA columns when determining the result dtypes. To retain the old behavior, exclude the relevant entries before the concat operation.\n",
      "  processed_ticks = pd.concat([processed_ticks, current_ticks])\n"
     ]
    }
   ],
   "source": [
    "while current_tick_time <= end_tick_time :\n",
    "\n",
    "    current_ticks = ad[(current_tick_time <= ad['estimated_resolved_time']) & (current_tick_time >= ad['date_and_time'])].reset_index(drop = True)\n",
    "    current_ticks['tick'] = tick\n",
    "    current_ticks = current_ticks[['tick','code','date','hr','time','address','ert_mins','lat','lon']]\n",
    "\n",
    "    processed_ticks = pd.concat([processed_ticks, current_ticks])\n",
    "    \n",
    "    tick += 1\n",
    "    current_tick_time += timedelta(minutes = how_many_minutes)"
   ]
  },
  {
   "cell_type": "code",
   "execution_count": 129,
   "id": "6e52c60a-7682-4c6e-bd4c-2f7167f235ef",
   "metadata": {},
   "outputs": [
    {
     "data": {
      "text/html": [
       "<div>\n",
       "<style scoped>\n",
       "    .dataframe tbody tr th:only-of-type {\n",
       "        vertical-align: middle;\n",
       "    }\n",
       "\n",
       "    .dataframe tbody tr th {\n",
       "        vertical-align: top;\n",
       "    }\n",
       "\n",
       "    .dataframe thead th {\n",
       "        text-align: right;\n",
       "    }\n",
       "</style>\n",
       "<table border=\"1\" class=\"dataframe\">\n",
       "  <thead>\n",
       "    <tr style=\"text-align: right;\">\n",
       "      <th></th>\n",
       "      <th>tick</th>\n",
       "      <th>code</th>\n",
       "      <th>date</th>\n",
       "      <th>hr</th>\n",
       "      <th>time</th>\n",
       "      <th>address</th>\n",
       "      <th>ert_mins</th>\n",
       "      <th>lat</th>\n",
       "      <th>lon</th>\n",
       "    </tr>\n",
       "  </thead>\n",
       "  <tbody>\n",
       "    <tr>\n",
       "      <th>0</th>\n",
       "      <td>3</td>\n",
       "      <td>64P</td>\n",
       "      <td>4/5/2025</td>\n",
       "      <td>0</td>\n",
       "      <td>0:06:56</td>\n",
       "      <td>3056 DICKERSON PIKE, NASHVILLE, TN</td>\n",
       "      <td>15</td>\n",
       "      <td>36.229127</td>\n",
       "      <td>-86.759745</td>\n",
       "    </tr>\n",
       "    <tr>\n",
       "      <th>0</th>\n",
       "      <td>4</td>\n",
       "      <td>64P</td>\n",
       "      <td>4/5/2025</td>\n",
       "      <td>0</td>\n",
       "      <td>0:06:56</td>\n",
       "      <td>3056 DICKERSON PIKE, NASHVILLE, TN</td>\n",
       "      <td>15</td>\n",
       "      <td>36.229127</td>\n",
       "      <td>-86.759745</td>\n",
       "    </tr>\n",
       "    <tr>\n",
       "      <th>0</th>\n",
       "      <td>5</td>\n",
       "      <td>64P</td>\n",
       "      <td>4/5/2025</td>\n",
       "      <td>0</td>\n",
       "      <td>0:06:56</td>\n",
       "      <td>3056 DICKERSON PIKE, NASHVILLE, TN</td>\n",
       "      <td>15</td>\n",
       "      <td>36.229127</td>\n",
       "      <td>-86.759745</td>\n",
       "    </tr>\n",
       "    <tr>\n",
       "      <th>1</th>\n",
       "      <td>5</td>\n",
       "      <td>52P</td>\n",
       "      <td>4/5/2025</td>\n",
       "      <td>0</td>\n",
       "      <td>0:19:45</td>\n",
       "      <td>1410 DOUGLAS AVE, NASHVILLE, TN</td>\n",
       "      <td>11</td>\n",
       "      <td>36.191982</td>\n",
       "      <td>-86.740490</td>\n",
       "    </tr>\n",
       "    <tr>\n",
       "      <th>0</th>\n",
       "      <td>6</td>\n",
       "      <td>52P</td>\n",
       "      <td>4/5/2025</td>\n",
       "      <td>0</td>\n",
       "      <td>0:19:45</td>\n",
       "      <td>1410 DOUGLAS AVE, NASHVILLE, TN</td>\n",
       "      <td>11</td>\n",
       "      <td>36.191982</td>\n",
       "      <td>-86.740490</td>\n",
       "    </tr>\n",
       "    <tr>\n",
       "      <th>...</th>\n",
       "      <td>...</td>\n",
       "      <td>...</td>\n",
       "      <td>...</td>\n",
       "      <td>...</td>\n",
       "      <td>...</td>\n",
       "      <td>...</td>\n",
       "      <td>...</td>\n",
       "      <td>...</td>\n",
       "      <td>...</td>\n",
       "    </tr>\n",
       "    <tr>\n",
       "      <th>9</th>\n",
       "      <td>577</td>\n",
       "      <td>70A</td>\n",
       "      <td>4/6/2025</td>\n",
       "      <td>23</td>\n",
       "      <td>23:20:16</td>\n",
       "      <td>924 CANTRELL AVE, NASHVILLE, TN</td>\n",
       "      <td>41</td>\n",
       "      <td>NaN</td>\n",
       "      <td>NaN</td>\n",
       "    </tr>\n",
       "    <tr>\n",
       "      <th>10</th>\n",
       "      <td>577</td>\n",
       "      <td>57P</td>\n",
       "      <td>4/6/2025</td>\n",
       "      <td>23</td>\n",
       "      <td>23:23:18</td>\n",
       "      <td>703 BATTLE RD, NASHVILLE, TN</td>\n",
       "      <td>89</td>\n",
       "      <td>NaN</td>\n",
       "      <td>NaN</td>\n",
       "    </tr>\n",
       "    <tr>\n",
       "      <th>11</th>\n",
       "      <td>577</td>\n",
       "      <td>71A</td>\n",
       "      <td>4/6/2025</td>\n",
       "      <td>23</td>\n",
       "      <td>23:38:52</td>\n",
       "      <td>928 RIVERGATE PKWY, NASHVILLE, TN</td>\n",
       "      <td>22</td>\n",
       "      <td>NaN</td>\n",
       "      <td>NaN</td>\n",
       "    </tr>\n",
       "    <tr>\n",
       "      <th>12</th>\n",
       "      <td>577</td>\n",
       "      <td>83P</td>\n",
       "      <td>4/6/2025</td>\n",
       "      <td>23</td>\n",
       "      <td>23:41:55</td>\n",
       "      <td>305 STARBOARD CT, NASHVILLE, TN</td>\n",
       "      <td>19</td>\n",
       "      <td>NaN</td>\n",
       "      <td>NaN</td>\n",
       "    </tr>\n",
       "    <tr>\n",
       "      <th>13</th>\n",
       "      <td>577</td>\n",
       "      <td>71A</td>\n",
       "      <td>4/6/2025</td>\n",
       "      <td>23</td>\n",
       "      <td>23:54:06</td>\n",
       "      <td>3748 NOLENSVILLE PIKE, NASHVILLE, TN</td>\n",
       "      <td>7</td>\n",
       "      <td>NaN</td>\n",
       "      <td>NaN</td>\n",
       "    </tr>\n",
       "  </tbody>\n",
       "</table>\n",
       "<p>13649 rows × 9 columns</p>\n",
       "</div>"
      ],
      "text/plain": [
       "   tick code      date  hr      time                               address  \\\n",
       "0     3  64P  4/5/2025   0   0:06:56    3056 DICKERSON PIKE, NASHVILLE, TN   \n",
       "0     4  64P  4/5/2025   0   0:06:56    3056 DICKERSON PIKE, NASHVILLE, TN   \n",
       "0     5  64P  4/5/2025   0   0:06:56    3056 DICKERSON PIKE, NASHVILLE, TN   \n",
       "1     5  52P  4/5/2025   0   0:19:45       1410 DOUGLAS AVE, NASHVILLE, TN   \n",
       "0     6  52P  4/5/2025   0   0:19:45       1410 DOUGLAS AVE, NASHVILLE, TN   \n",
       "..  ...  ...       ...  ..       ...                                   ...   \n",
       "9   577  70A  4/6/2025  23  23:20:16       924 CANTRELL AVE, NASHVILLE, TN   \n",
       "10  577  57P  4/6/2025  23  23:23:18          703 BATTLE RD, NASHVILLE, TN   \n",
       "11  577  71A  4/6/2025  23  23:38:52     928 RIVERGATE PKWY, NASHVILLE, TN   \n",
       "12  577  83P  4/6/2025  23  23:41:55       305 STARBOARD CT, NASHVILLE, TN   \n",
       "13  577  71A  4/6/2025  23  23:54:06  3748 NOLENSVILLE PIKE, NASHVILLE, TN   \n",
       "\n",
       "   ert_mins        lat        lon  \n",
       "0        15  36.229127 -86.759745  \n",
       "0        15  36.229127 -86.759745  \n",
       "0        15  36.229127 -86.759745  \n",
       "1        11  36.191982 -86.740490  \n",
       "0        11  36.191982 -86.740490  \n",
       "..      ...        ...        ...  \n",
       "9        41        NaN        NaN  \n",
       "10       89        NaN        NaN  \n",
       "11       22        NaN        NaN  \n",
       "12       19        NaN        NaN  \n",
       "13        7        NaN        NaN  \n",
       "\n",
       "[13649 rows x 9 columns]"
      ]
     },
     "execution_count": 129,
     "metadata": {},
     "output_type": "execute_result"
    }
   ],
   "source": [
    "processed_ticks"
   ]
  },
  {
   "cell_type": "code",
   "execution_count": null,
   "id": "c7594021-fdf8-4135-afe8-915e4ff142d0",
   "metadata": {},
   "outputs": [],
   "source": []
  },
  {
   "cell_type": "code",
   "execution_count": null,
   "id": "4abb27e8-cc7b-42bd-85e5-1a4353fba697",
   "metadata": {},
   "outputs": [],
   "source": []
  },
  {
   "cell_type": "code",
   "execution_count": null,
   "id": "fedaac4b-f1ec-4959-a3cb-39398ae87c83",
   "metadata": {},
   "outputs": [],
   "source": []
  },
  {
   "cell_type": "code",
   "execution_count": null,
   "id": "673024b5-211b-4575-99f9-f19fbe0e9585",
   "metadata": {},
   "outputs": [],
   "source": []
  },
  {
   "cell_type": "code",
   "execution_count": null,
   "id": "c0bd3e8a-592a-4385-84b3-5b6a531d59e0",
   "metadata": {},
   "outputs": [],
   "source": []
  },
  {
   "cell_type": "code",
   "execution_count": null,
   "id": "badda345-7fb1-44a4-9743-ddf433f9f4f5",
   "metadata": {},
   "outputs": [],
   "source": []
  },
  {
   "cell_type": "code",
   "execution_count": null,
   "id": "ffd91ddc-d68e-4ee9-b654-59a2e68ac03a",
   "metadata": {},
   "outputs": [],
   "source": [
    "# Next to try for geocoding...\n",
    "# process with arcgis, as much as possible\n",
    "# census next\n",
    "# google webscrape next\n",
    "# another alternative is Nominatim"
   ]
  },
  {
   "cell_type": "markdown",
   "id": "db69b410-5400-4728-8167-a7581776f176",
   "metadata": {},
   "source": [
    "# Plan A: ArcGIS"
   ]
  },
  {
   "cell_type": "code",
   "execution_count": 47,
   "id": "cecc9549-e379-4d62-bbcb-2b2bd5b72bd5",
   "metadata": {},
   "outputs": [],
   "source": [
    "from geopy.geocoders import ArcGIS"
   ]
  },
  {
   "cell_type": "code",
   "execution_count": 49,
   "id": "49399b95-4bf8-4ad9-9b29-957506b05293",
   "metadata": {},
   "outputs": [],
   "source": [
    "def geocode(address_or_intersection) :\n",
    "    address_or_intersection = address_or_intersection.replace(\"/\", \"&\") # For an intersection, it needs to be & not /\n",
    "    \n",
    "    n = ArcGIS().geocode(address_or_intersection)\n",
    "    return n[0], n[1]"
   ]
  },
  {
   "cell_type": "code",
   "execution_count": 53,
   "id": "402f775a-74bc-44c8-b8de-a9cf33788b26",
   "metadata": {},
   "outputs": [
    {
     "name": "stdout",
     "output_type": "stream",
     "text": [
      "Bellevue Rd & Hicks Rd, Nashville, Tennessee, 37221\n",
      "(36.062545979425, -86.923692965379)\n",
      "36.062545979425\n"
     ]
    }
   ],
   "source": [
    "address, coordinates = geocode('BELLEVUE RD / HICKS RD, NASHVILLE, TN')\n",
    "print(address)\n",
    "print(coordinates)\n",
    "print(coordinates[0])"
   ]
  },
  {
   "cell_type": "code",
   "execution_count": 55,
   "id": "5d596f03-12bb-4b8f-84d7-6a2b97f8be2f",
   "metadata": {},
   "outputs": [
    {
     "name": "stdout",
     "output_type": "stream",
     "text": [
      "608 W Due West Ave, Madison, Tennessee, 37115\n",
      "(36.249367699273, -86.735595671686)\n",
      "36.249367699273\n"
     ]
    }
   ],
   "source": [
    "address, coordinates = geocode('608 W DUE WEST AVE, NASHVILLE, TN')\n",
    "print(address)\n",
    "print(coordinates)\n",
    "print(coordinates[0])"
   ]
  },
  {
   "cell_type": "code",
   "execution_count": 57,
   "id": "88caf839-9392-4faa-aea3-7f925a1e018a",
   "metadata": {},
   "outputs": [
    {
     "name": "stdout",
     "output_type": "stream",
     "text": [
      "Commerce St & 6th Ave N, Nashville, Tennessee, 37203\n",
      "(36.161345986725, -86.78057004082)\n",
      "36.161345986725\n"
     ]
    }
   ],
   "source": [
    "address, coordinates = geocode('COMMERCE ST & 6TH AVE N, NASHVILLE, TN')\n",
    "print(address)\n",
    "print(coordinates)\n",
    "print(coordinates[0])"
   ]
  },
  {
   "cell_type": "code",
   "execution_count": null,
   "id": "432d9d03-a45d-448a-831f-dc81b43fb49e",
   "metadata": {},
   "outputs": [],
   "source": []
  },
  {
   "cell_type": "markdown",
   "id": "65c29c72-d7e6-427c-96a1-fb2fb54ed3c4",
   "metadata": {},
   "source": [
    "# Plan B: Census\n",
    "### Seems like this should work well for intersections, I just need to code it still, ha ha"
   ]
  },
  {
   "cell_type": "code",
   "execution_count": 43,
   "id": "69248a52-d282-453d-a75e-4a3d9a9c4b26",
   "metadata": {},
   "outputs": [],
   "source": [
    "# Code it!\n",
    "# https://geocoding.geo.census.gov/geocoder/locations/onelineaddress?address=GREEN%20LN%20%26%20TISDALL%20DR,%20NASHVILLE,%20TN&benchmark=Public_AR_Current&format=json\n",
    "# json format\n",
    "# Use %26 as an & (and instead of /)"
   ]
  },
  {
   "cell_type": "code",
   "execution_count": 45,
   "id": "90d54f59-51a2-4143-b3e8-fe2b1d213d26",
   "metadata": {},
   "outputs": [],
   "source": [
    "# Looks like it should be something like...\n",
    "# result: addressMatches: 0: coordinates: x & y"
   ]
  },
  {
   "cell_type": "code",
   "execution_count": null,
   "id": "d103f005-d6b2-435d-aabb-ccaffda25e35",
   "metadata": {},
   "outputs": [],
   "source": []
  },
  {
   "cell_type": "markdown",
   "id": "58686f2a-018d-415b-8bda-9c6d860a91dd",
   "metadata": {},
   "source": [
    "# Plan C: Google web scrape\n",
    "### Seems to work well on addresses and on intersections (with &, not /)\n",
    "### If I go this route, definately space it out with sleep... I don't want to get Google mad at my scraping!"
   ]
  },
  {
   "cell_type": "code",
   "execution_count": 18,
   "id": "0e3d65d4-7b50-46bb-ae67-c724a1895483",
   "metadata": {},
   "outputs": [],
   "source": [
    "import requests\n",
    "import re"
   ]
  },
  {
   "cell_type": "code",
   "execution_count": 19,
   "id": "886caabb-3458-468b-92a6-397c74bb67cb",
   "metadata": {},
   "outputs": [],
   "source": [
    "address = '608 W DUE WEST AVE, NASHVILLE, TN'"
   ]
  },
  {
   "cell_type": "code",
   "execution_count": 22,
   "id": "722659f9-6fad-4ca1-9a26-93d94cd620f8",
   "metadata": {},
   "outputs": [],
   "source": [
    "res = requests.get('https://www.google.com/maps/place/'+address)"
   ]
  },
  {
   "cell_type": "code",
   "execution_count": 24,
   "id": "ac63ec8a-5afc-44ee-a6c5-4c6b543ef3f4",
   "metadata": {},
   "outputs": [
    {
     "name": "stdout",
     "output_type": "stream",
     "text": [
      "608+W+Due+West+Ave,+Madison,+TN+37115\n",
      "36.2493773\n",
      "-86.7355026\n"
     ]
    }
   ],
   "source": [
    "# search for gps in the format \"https://www.google.com/maps/preview/place/Hillsboro+Pike+%26+Otter+Creek+Rd,+Forest+Hills,+TN+37215/@36.0680982,-86.8441147,\n",
    "# Nashville is always going to be 36, -86 lat/lon, so I'm looking for that - sign specifically...\n",
    "test = re.search(r'\"https://www.google.com/maps/preview/place/(.+)/@(\\d+\\.\\d+),(-\\d+\\.\\d+),', res.text)\n",
    "print(test.group(1))\n",
    "print(test.group(2))\n",
    "print(test.group(3))"
   ]
  },
  {
   "cell_type": "code",
   "execution_count": 26,
   "id": "38d59361-810f-42cd-97a9-12821fe22189",
   "metadata": {},
   "outputs": [],
   "source": [
    "intersection1 = \"COMMERCE ST & 6TH AVE N, NASHVILLE, TN\"\n",
    "intersection2 = \"COMMERCE ST / 6TH AVE N, NASHVILLE, TN\""
   ]
  },
  {
   "cell_type": "code",
   "execution_count": 28,
   "id": "8895da7c-70d1-4ffa-9fc5-ff8cfc3e374e",
   "metadata": {},
   "outputs": [],
   "source": [
    "res = requests.get('https://www.google.com/maps/place/'+intersection1)"
   ]
  },
  {
   "cell_type": "code",
   "execution_count": 30,
   "id": "b438b630-cbb1-4647-ab4f-21db8ea514fe",
   "metadata": {},
   "outputs": [
    {
     "name": "stdout",
     "output_type": "stream",
     "text": [
      "Commerce+St+%26+6th+Ave+N,+Nashville,+TN+37203\n",
      "36.161315\n",
      "-86.7805606\n"
     ]
    }
   ],
   "source": [
    "test = re.search(r'\"https://www.google.com/maps/preview/place/(.+)/@(\\d+\\.\\d+),(-\\d+\\.\\d+),', res.text)\n",
    "print(test.group(1))\n",
    "print(test.group(2))\n",
    "print(test.group(3))"
   ]
  },
  {
   "cell_type": "code",
   "execution_count": 32,
   "id": "06a0dd8a-a4ed-4406-960b-42c6229ee1a4",
   "metadata": {},
   "outputs": [],
   "source": [
    "res = requests.get('https://www.google.com/maps/place/'+intersection2)"
   ]
  },
  {
   "cell_type": "code",
   "execution_count": 34,
   "id": "700fbe5c-493e-4158-846a-fc6e2f3cebe1",
   "metadata": {},
   "outputs": [
    {
     "name": "stdout",
     "output_type": "stream",
     "text": [
      "Commerce+St,+New+York,+NY+10014\n",
      "40.7315538\n",
      "-74.0049385\n"
     ]
    }
   ],
   "source": [
    "test = re.search(r'\"https://www.google.com/maps/preview/place/(.+)/@(\\d+\\.\\d+),(-\\d+\\.\\d+),', res.text)\n",
    "print(test.group(1))\n",
    "print(test.group(2))\n",
    "print(test.group(3))"
   ]
  },
  {
   "cell_type": "code",
   "execution_count": null,
   "id": "28d9ca22-900a-4c4d-8978-12e8f4b4127c",
   "metadata": {},
   "outputs": [],
   "source": []
  },
  {
   "cell_type": "markdown",
   "id": "5072e1b5-bbd4-4d92-aa76-d796adfaa802",
   "metadata": {},
   "source": [
    "# Plan D: Nominatim\n",
    "### Seems to work well for addresses, but not intersections.\n",
    "### If I have to go this route, maybe search more documentation... is there a way to encode intersections?"
   ]
  },
  {
   "cell_type": "code",
   "execution_count": 1,
   "id": "aad43bc6-61e7-44ab-b731-af827bd77f5a",
   "metadata": {},
   "outputs": [
    {
     "name": "stdout",
     "output_type": "stream",
     "text": [
      "{'place_id': 370499868, 'licence': 'Data © OpenStreetMap contributors, ODbL 1.0. http://osm.org/copyright', 'osm_type': 'way', 'osm_id': 48729772, 'lat': '36.2278548', 'lon': '-86.7596889', 'class': 'place', 'type': 'house', 'place_rank': 30, 'importance': 9.99999999995449e-06, 'addresstype': 'place', 'name': '', 'display_name': '3056, Dickerson Pike, Nashville, Davidson County, Middle Tennessee, Tennessee, 37207, United States', 'boundingbox': ['36.2278048', '36.2279048', '-86.7597389', '-86.7596389']}\n"
     ]
    }
   ],
   "source": [
    "from geopy.geocoders import Nominatim\n",
    "\n",
    "# Instantiate a new Nominatim client\n",
    "app = Nominatim(user_agent=\"Nashville Police Dispatch and Weather Project\")\n",
    "\n",
    "location = app.geocode(\"3056 DICKERSON PIKE, NASHVILLE, TN\").raw\n",
    "\n",
    "# Print raw data\n",
    "print(location)"
   ]
  },
  {
   "cell_type": "code",
   "execution_count": 14,
   "id": "952be047-e69f-4c4e-85ce-dcfd05fda3c7",
   "metadata": {},
   "outputs": [],
   "source": [
    "intersection = \"COMMERCE ST & 6TH AVE N, NASHVILLE, TN\"\n",
    "intersection = \"COMMERCE ST / 6TH AVE N, NASHVILLE, TN\"\n",
    "\n",
    "#location = app.geocode(intersection).raw\n",
    "\n",
    "# print(location)"
   ]
  },
  {
   "cell_type": "code",
   "execution_count": null,
   "id": "0d4ca8c9-9239-423a-9526-673e382be76d",
   "metadata": {},
   "outputs": [],
   "source": [
    "# This one seems to be good for addresses, but not intersections with & or /, produces an error."
   ]
  }
 ],
 "metadata": {
  "kernelspec": {
   "display_name": "Python [conda env:base] *",
   "language": "python",
   "name": "conda-base-py"
  },
  "language_info": {
   "codemirror_mode": {
    "name": "ipython",
    "version": 3
   },
   "file_extension": ".py",
   "mimetype": "text/x-python",
   "name": "python",
   "nbconvert_exporter": "python",
   "pygments_lexer": "ipython3",
   "version": "3.12.7"
  }
 },
 "nbformat": 4,
 "nbformat_minor": 5
}
