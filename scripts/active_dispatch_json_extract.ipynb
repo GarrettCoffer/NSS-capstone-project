{
 "cells": [
  {
   "cell_type": "code",
   "execution_count": null,
   "id": "876483a9-8e52-4c6c-b8f5-70637cd063e0",
   "metadata": {},
   "outputs": [
    {
     "name": "stdout",
     "output_type": "stream",
     "text": [
      "Starting imports\n",
      "Starting loop\n",
      "\n",
      "Processed: 238.  Seconds until next process: 249    "
     ]
    }
   ],
   "source": [
    "print('Starting imports')\n",
    "\n",
    "import requests\n",
    "import json\n",
    "import pandas as pd\n",
    "import time\n",
    "\n",
    "endpoint = 'https://services2.arcgis.com/HdTo6HJqh92wn4D8/arcgis/rest/services/Metro_Nashville_Police_Department_Active_Dispatch_Table_view/FeatureServer/0/query?outFields=*&where=1%3D1&f=geojson'\n",
    "\n",
    "i = 0\n",
    "t = 10 # start a 10-second countdown.  For fun!!\n",
    "\n",
    "print('Starting loop')\n",
    "print('')\n",
    "\n",
    "while True:\n",
    "\n",
    "    t -= 1\n",
    "\n",
    "    if t == 0 :\n",
    "        # process it here!\n",
    "        try :\n",
    "            response = requests.get(endpoint)\n",
    "            if(response.status_code == 200) :\n",
    "                res = response.json()\n",
    "                active_dispatch = pd.DataFrame(columns = ['incident_type_code','incident_type_name','call_received_time','location',\n",
    "                                                 'location_description','city_name','last_updated'])\n",
    "                for incident in res['features'] :\n",
    "                    new_row = {'incident_type_code': incident['properties']['IncidentTypeCode'],\n",
    "                               'incident_type_name': incident['properties']['IncidentTypeName'],\n",
    "                               'call_received_time': incident['properties']['CallReceivedTime'],\n",
    "                               'location': incident['properties']['Location'],\n",
    "                               'location_description': incident['properties']['LocationDescription'],\n",
    "                               'city_name': incident['properties']['CityName'],\n",
    "                               'last_updated': incident['properties']['LastUpdated']}\n",
    "                    active_dispatch.loc[len(active_dispatch)] = new_row\n",
    "                if len(active_dispatch) > 0 :\n",
    "                    last_updated = active_dispatch.loc[0,'last_updated']\n",
    "                    active_dispatch.to_csv('../data/active_dispatch/' + str(last_updated) + '.csv', index=False)\n",
    "                    i += 1\n",
    "                t = 360          # set the next countdown to 360 seconds, 5 minutes later\n",
    "            else :\n",
    "                print('')\n",
    "                print('Error!  Response : ' + str(response))\n",
    "                t = 60          # try again in 1 minute\n",
    "        except requests.exceptions.RequestException as e:\n",
    "            print('')\n",
    "            print('Error!  Requests error : ' + str(e))\n",
    "            t = 60          # try again in 1 minute\n",
    "        except:\n",
    "            print('')\n",
    "            print('Something else went wrong') \n",
    "            t = 60          # try again in 1 minute\n",
    "    print(f\"\\rProcessed: {i}.  Seconds until next process: {t}    \", end = \"\")\n",
    "    time.sleep(1)              # count down every second!"
   ]
  },
  {
   "cell_type": "code",
   "execution_count": null,
   "id": "48c935ba-f93a-4774-8ea6-15ed87051bbd",
   "metadata": {},
   "outputs": [],
   "source": []
  }
 ],
 "metadata": {
  "kernelspec": {
   "display_name": "Python [conda env:base] *",
   "language": "python",
   "name": "conda-base-py"
  },
  "language_info": {
   "codemirror_mode": {
    "name": "ipython",
    "version": 3
   },
   "file_extension": ".py",
   "mimetype": "text/x-python",
   "name": "python",
   "nbconvert_exporter": "python",
   "pygments_lexer": "ipython3",
   "version": "3.12.7"
  }
 },
 "nbformat": 4,
 "nbformat_minor": 5
}
