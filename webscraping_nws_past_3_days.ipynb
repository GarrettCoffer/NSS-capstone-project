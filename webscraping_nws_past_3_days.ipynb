{
 "cells": [
  {
   "cell_type": "code",
   "execution_count": 3,
   "id": "b332a058-69ff-4ec6-a8da-f3d072cd1018",
   "metadata": {},
   "outputs": [],
   "source": [
    "#This notebook needs to be run every other day!  (Every day is fine, too.)\n",
    "#This will webscrape the last 3 days worth of weather data from weather.gov\n",
    "\n",
    "# Currently working on setting it to automatically run every day, 86400 seconds"
   ]
  },
  {
   "cell_type": "code",
   "execution_count": 3,
   "id": "15ed0522-11d4-4119-affc-90f90f76df2e",
   "metadata": {},
   "outputs": [],
   "source": [
    "import requests\n",
    "from bs4 import BeautifulSoup as BS\n",
    "import pandas as pd"
   ]
  },
  {
   "cell_type": "code",
   "execution_count": 71,
   "id": "9d0f93ba-daa9-4106-8ab3-8f8c46e81e09",
   "metadata": {},
   "outputs": [],
   "source": [
    "URL = 'https://forecast.weather.gov/data/obhistory/KBNA.html'"
   ]
  },
  {
   "cell_type": "code",
   "execution_count": 73,
   "id": "614bd844-7017-4b18-a1b6-de5fa307261b",
   "metadata": {},
   "outputs": [],
   "source": [
    "response = requests.get(URL)"
   ]
  },
  {
   "cell_type": "code",
   "execution_count": 74,
   "id": "03890ad4-df11-44cf-b0b2-2792b5e4e8ab",
   "metadata": {},
   "outputs": [],
   "source": [
    "soup = BS(response.text)"
   ]
  },
  {
   "cell_type": "code",
   "execution_count": 77,
   "id": "3edaf411-09f4-4ec3-a722-d0041480a7db",
   "metadata": {},
   "outputs": [
    {
     "data": {
      "text/plain": [
       "'2025-03-30T13:38:30+00:00'"
      ]
     },
     "execution_count": 77,
     "metadata": {},
     "output_type": "execute_result"
    }
   ],
   "source": [
    "report_day = soup.findAll('meta', attrs={'name' : 'DC.date.created'})[0]['content']\n",
    "# the format looks like: report_day = '2025-04-01T05:22:13+00:00'\n",
    "report_day"
   ]
  },
  {
   "cell_type": "code",
   "execution_count": 79,
   "id": "04ad6f66-7659-4855-b8aa-3f378ea46c4d",
   "metadata": {},
   "outputs": [
    {
     "data": {
      "text/plain": [
       "18"
      ]
     },
     "execution_count": 79,
     "metadata": {},
     "output_type": "execute_result"
    }
   ],
   "source": [
    "len(soup.find('tbody').findAll('tr')[0].findAll('td'))"
   ]
  },
  {
   "cell_type": "code",
   "execution_count": 81,
   "id": "d1fd09d7-a88e-45c2-9b04-e9bd0c25aac7",
   "metadata": {},
   "outputs": [],
   "source": [
    "df = pd.DataFrame(columns = ['year','month','day_of_month','time','temp','precip_1_h','precip_3_h','precip_6_h'])"
   ]
  },
  {
   "cell_type": "code",
   "execution_count": 83,
   "id": "ce6be7ec-696b-4040-a36f-bbb0245d19e0",
   "metadata": {},
   "outputs": [],
   "source": [
    "i = 0\n",
    "for row in soup.find('tbody').findAll('tr') :\n",
    "    data = row.findAll('td')\n",
    "    df.loc[i,'year'] = report_day[0:4]\n",
    "    df.loc[i,'month'] = report_day[5:7]\n",
    "    df.loc[i,'day_of_month'] = data[0].text\n",
    "    df.loc[i,'time'] = data[1].text\n",
    "    df.loc[i,'temp'] = data[6].text\n",
    "    df.loc[i,'precip_1_h'] = data[15].text\n",
    "    df.loc[i,'precip_3_h'] = data[16].text\n",
    "    df.loc[i,'precip_6_h'] = data[17].text\n",
    "    i += 1"
   ]
  },
  {
   "cell_type": "code",
   "execution_count": 85,
   "id": "ae4c183b-9676-4456-8604-6493149be610",
   "metadata": {},
   "outputs": [
    {
     "data": {
      "text/html": [
       "<div>\n",
       "<style scoped>\n",
       "    .dataframe tbody tr th:only-of-type {\n",
       "        vertical-align: middle;\n",
       "    }\n",
       "\n",
       "    .dataframe tbody tr th {\n",
       "        vertical-align: top;\n",
       "    }\n",
       "\n",
       "    .dataframe thead th {\n",
       "        text-align: right;\n",
       "    }\n",
       "</style>\n",
       "<table border=\"1\" class=\"dataframe\">\n",
       "  <thead>\n",
       "    <tr style=\"text-align: right;\">\n",
       "      <th></th>\n",
       "      <th>year</th>\n",
       "      <th>month</th>\n",
       "      <th>day_of_month</th>\n",
       "      <th>time</th>\n",
       "      <th>temp</th>\n",
       "      <th>precip_1_h</th>\n",
       "      <th>precip_3_h</th>\n",
       "      <th>precip_6_h</th>\n",
       "    </tr>\n",
       "  </thead>\n",
       "  <tbody>\n",
       "    <tr>\n",
       "      <th>0</th>\n",
       "      <td>2025</td>\n",
       "      <td>3</td>\n",
       "      <td>30</td>\n",
       "      <td>06:53</td>\n",
       "      <td>66.9</td>\n",
       "      <td></td>\n",
       "      <td></td>\n",
       "      <td>0.02</td>\n",
       "    </tr>\n",
       "    <tr>\n",
       "      <th>1</th>\n",
       "      <td>2025</td>\n",
       "      <td>3</td>\n",
       "      <td>30</td>\n",
       "      <td>05:53</td>\n",
       "      <td>64.9</td>\n",
       "      <td></td>\n",
       "      <td></td>\n",
       "      <td></td>\n",
       "    </tr>\n",
       "    <tr>\n",
       "      <th>2</th>\n",
       "      <td>2025</td>\n",
       "      <td>3</td>\n",
       "      <td>30</td>\n",
       "      <td>04:53</td>\n",
       "      <td>64.9</td>\n",
       "      <td></td>\n",
       "      <td></td>\n",
       "      <td></td>\n",
       "    </tr>\n",
       "    <tr>\n",
       "      <th>3</th>\n",
       "      <td>2025</td>\n",
       "      <td>3</td>\n",
       "      <td>30</td>\n",
       "      <td>03:53</td>\n",
       "      <td>64.9</td>\n",
       "      <td></td>\n",
       "      <td>0.02</td>\n",
       "      <td></td>\n",
       "    </tr>\n",
       "    <tr>\n",
       "      <th>4</th>\n",
       "      <td>2025</td>\n",
       "      <td>3</td>\n",
       "      <td>30</td>\n",
       "      <td>02:53</td>\n",
       "      <td>64.9</td>\n",
       "      <td>0.02</td>\n",
       "      <td></td>\n",
       "      <td></td>\n",
       "    </tr>\n",
       "    <tr>\n",
       "      <th>...</th>\n",
       "      <td>...</td>\n",
       "      <td>...</td>\n",
       "      <td>...</td>\n",
       "      <td>...</td>\n",
       "      <td>...</td>\n",
       "      <td>...</td>\n",
       "      <td>...</td>\n",
       "      <td>...</td>\n",
       "    </tr>\n",
       "    <tr>\n",
       "      <th>64</th>\n",
       "      <td>2025</td>\n",
       "      <td>3</td>\n",
       "      <td>27</td>\n",
       "      <td>12:53</td>\n",
       "      <td>71.6</td>\n",
       "      <td></td>\n",
       "      <td></td>\n",
       "      <td></td>\n",
       "    </tr>\n",
       "    <tr>\n",
       "      <th>65</th>\n",
       "      <td>2025</td>\n",
       "      <td>3</td>\n",
       "      <td>27</td>\n",
       "      <td>11:53</td>\n",
       "      <td>68</td>\n",
       "      <td></td>\n",
       "      <td></td>\n",
       "      <td></td>\n",
       "    </tr>\n",
       "    <tr>\n",
       "      <th>66</th>\n",
       "      <td>2025</td>\n",
       "      <td>3</td>\n",
       "      <td>27</td>\n",
       "      <td>10:53</td>\n",
       "      <td>64.4</td>\n",
       "      <td></td>\n",
       "      <td></td>\n",
       "      <td></td>\n",
       "    </tr>\n",
       "    <tr>\n",
       "      <th>67</th>\n",
       "      <td>2025</td>\n",
       "      <td>3</td>\n",
       "      <td>27</td>\n",
       "      <td>09:53</td>\n",
       "      <td>59</td>\n",
       "      <td></td>\n",
       "      <td></td>\n",
       "      <td></td>\n",
       "    </tr>\n",
       "    <tr>\n",
       "      <th>68</th>\n",
       "      <td>2025</td>\n",
       "      <td>3</td>\n",
       "      <td>27</td>\n",
       "      <td>08:53</td>\n",
       "      <td>51.8</td>\n",
       "      <td></td>\n",
       "      <td></td>\n",
       "      <td></td>\n",
       "    </tr>\n",
       "  </tbody>\n",
       "</table>\n",
       "<p>69 rows × 8 columns</p>\n",
       "</div>"
      ],
      "text/plain": [
       "    year  month  day_of_month   time  temp precip_1_h precip_3_h precip_6_h\n",
       "0   2025      3            30  06:53  66.9                             0.02\n",
       "1   2025      3            30  05:53  64.9                                 \n",
       "2   2025      3            30  04:53  64.9                                 \n",
       "3   2025      3            30  03:53  64.9                  0.02           \n",
       "4   2025      3            30  02:53  64.9       0.02                      \n",
       "..   ...    ...           ...    ...   ...        ...        ...        ...\n",
       "64  2025      3            27  12:53  71.6                                 \n",
       "65  2025      3            27  11:53    68                                 \n",
       "66  2025      3            27  10:53  64.4                                 \n",
       "67  2025      3            27  09:53    59                                 \n",
       "68  2025      3            27  08:53  51.8                                 \n",
       "\n",
       "[69 rows x 8 columns]"
      ]
     },
     "execution_count": 85,
     "metadata": {},
     "output_type": "execute_result"
    }
   ],
   "source": [
    "df = df.astype({'year':'int', 'month':'int', 'day_of_month': 'int'})\n",
    "df"
   ]
  },
  {
   "cell_type": "code",
   "execution_count": 87,
   "id": "c3a581fc-5a56-4c60-af6e-dd5dc8a4715b",
   "metadata": {},
   "outputs": [
    {
     "data": {
      "text/plain": [
       "year             int32\n",
       "month            int32\n",
       "day_of_month     int32\n",
       "time            object\n",
       "temp            object\n",
       "precip_1_h      object\n",
       "precip_3_h      object\n",
       "precip_6_h      object\n",
       "dtype: object"
      ]
     },
     "execution_count": 87,
     "metadata": {},
     "output_type": "execute_result"
    }
   ],
   "source": [
    "df.dtypes"
   ]
  },
  {
   "cell_type": "code",
   "execution_count": 89,
   "id": "ac7499c8-780c-4d39-83f4-a6b2e4fce893",
   "metadata": {},
   "outputs": [
    {
     "data": {
      "text/plain": [
       "30"
      ]
     },
     "execution_count": 89,
     "metadata": {},
     "output_type": "execute_result"
    }
   ],
   "source": [
    "day_part = int(report_day[8:10])\n",
    "day_part"
   ]
  },
  {
   "cell_type": "code",
   "execution_count": 91,
   "id": "2442b85f-2a1c-4a76-8b83-48264f034933",
   "metadata": {},
   "outputs": [],
   "source": [
    "#but now I need to fix the month and year rollovers, for when the report date will show the wrong (later) month or year!\n",
    "for index, row in df.iterrows() :\n",
    "    if day_part < row['day_of_month'] :\n",
    "    \tdf.loc[index,'month'] -= 1\t\t# for example, if report day is April 1, but if the site's day is listed as 30, that needs to be adjusted to MARCH 30.\n",
    "    \tif row['month'] < 1 :\t                    # handle the case for January 1 & 2 rollovers!  I won't use it in this project though.\n",
    "    \t\tdf.loc[index,'month'] = 12\n",
    "    \t\tdf.loc[index,'year'] -= 1"
   ]
  },
  {
   "cell_type": "code",
   "execution_count": 93,
   "id": "7df96d2e-129c-42d8-8f99-c63a5b7e6abe",
   "metadata": {},
   "outputs": [
    {
     "data": {
      "text/html": [
       "<div>\n",
       "<style scoped>\n",
       "    .dataframe tbody tr th:only-of-type {\n",
       "        vertical-align: middle;\n",
       "    }\n",
       "\n",
       "    .dataframe tbody tr th {\n",
       "        vertical-align: top;\n",
       "    }\n",
       "\n",
       "    .dataframe thead th {\n",
       "        text-align: right;\n",
       "    }\n",
       "</style>\n",
       "<table border=\"1\" class=\"dataframe\">\n",
       "  <thead>\n",
       "    <tr style=\"text-align: right;\">\n",
       "      <th></th>\n",
       "      <th>year</th>\n",
       "      <th>month</th>\n",
       "      <th>day_of_month</th>\n",
       "      <th>time</th>\n",
       "      <th>temp</th>\n",
       "      <th>precip_1_h</th>\n",
       "      <th>precip_3_h</th>\n",
       "      <th>precip_6_h</th>\n",
       "    </tr>\n",
       "  </thead>\n",
       "  <tbody>\n",
       "    <tr>\n",
       "      <th>0</th>\n",
       "      <td>2025</td>\n",
       "      <td>3</td>\n",
       "      <td>30</td>\n",
       "      <td>06:53</td>\n",
       "      <td>66.9</td>\n",
       "      <td></td>\n",
       "      <td></td>\n",
       "      <td>0.02</td>\n",
       "    </tr>\n",
       "    <tr>\n",
       "      <th>1</th>\n",
       "      <td>2025</td>\n",
       "      <td>3</td>\n",
       "      <td>30</td>\n",
       "      <td>05:53</td>\n",
       "      <td>64.9</td>\n",
       "      <td></td>\n",
       "      <td></td>\n",
       "      <td></td>\n",
       "    </tr>\n",
       "    <tr>\n",
       "      <th>2</th>\n",
       "      <td>2025</td>\n",
       "      <td>3</td>\n",
       "      <td>30</td>\n",
       "      <td>04:53</td>\n",
       "      <td>64.9</td>\n",
       "      <td></td>\n",
       "      <td></td>\n",
       "      <td></td>\n",
       "    </tr>\n",
       "    <tr>\n",
       "      <th>3</th>\n",
       "      <td>2025</td>\n",
       "      <td>3</td>\n",
       "      <td>30</td>\n",
       "      <td>03:53</td>\n",
       "      <td>64.9</td>\n",
       "      <td></td>\n",
       "      <td>0.02</td>\n",
       "      <td></td>\n",
       "    </tr>\n",
       "    <tr>\n",
       "      <th>4</th>\n",
       "      <td>2025</td>\n",
       "      <td>3</td>\n",
       "      <td>30</td>\n",
       "      <td>02:53</td>\n",
       "      <td>64.9</td>\n",
       "      <td>0.02</td>\n",
       "      <td></td>\n",
       "      <td></td>\n",
       "    </tr>\n",
       "    <tr>\n",
       "      <th>...</th>\n",
       "      <td>...</td>\n",
       "      <td>...</td>\n",
       "      <td>...</td>\n",
       "      <td>...</td>\n",
       "      <td>...</td>\n",
       "      <td>...</td>\n",
       "      <td>...</td>\n",
       "      <td>...</td>\n",
       "    </tr>\n",
       "    <tr>\n",
       "      <th>64</th>\n",
       "      <td>2025</td>\n",
       "      <td>3</td>\n",
       "      <td>27</td>\n",
       "      <td>12:53</td>\n",
       "      <td>71.6</td>\n",
       "      <td></td>\n",
       "      <td></td>\n",
       "      <td></td>\n",
       "    </tr>\n",
       "    <tr>\n",
       "      <th>65</th>\n",
       "      <td>2025</td>\n",
       "      <td>3</td>\n",
       "      <td>27</td>\n",
       "      <td>11:53</td>\n",
       "      <td>68</td>\n",
       "      <td></td>\n",
       "      <td></td>\n",
       "      <td></td>\n",
       "    </tr>\n",
       "    <tr>\n",
       "      <th>66</th>\n",
       "      <td>2025</td>\n",
       "      <td>3</td>\n",
       "      <td>27</td>\n",
       "      <td>10:53</td>\n",
       "      <td>64.4</td>\n",
       "      <td></td>\n",
       "      <td></td>\n",
       "      <td></td>\n",
       "    </tr>\n",
       "    <tr>\n",
       "      <th>67</th>\n",
       "      <td>2025</td>\n",
       "      <td>3</td>\n",
       "      <td>27</td>\n",
       "      <td>09:53</td>\n",
       "      <td>59</td>\n",
       "      <td></td>\n",
       "      <td></td>\n",
       "      <td></td>\n",
       "    </tr>\n",
       "    <tr>\n",
       "      <th>68</th>\n",
       "      <td>2025</td>\n",
       "      <td>3</td>\n",
       "      <td>27</td>\n",
       "      <td>08:53</td>\n",
       "      <td>51.8</td>\n",
       "      <td></td>\n",
       "      <td></td>\n",
       "      <td></td>\n",
       "    </tr>\n",
       "  </tbody>\n",
       "</table>\n",
       "<p>69 rows × 8 columns</p>\n",
       "</div>"
      ],
      "text/plain": [
       "    year  month  day_of_month   time  temp precip_1_h precip_3_h precip_6_h\n",
       "0   2025      3            30  06:53  66.9                             0.02\n",
       "1   2025      3            30  05:53  64.9                                 \n",
       "2   2025      3            30  04:53  64.9                                 \n",
       "3   2025      3            30  03:53  64.9                  0.02           \n",
       "4   2025      3            30  02:53  64.9       0.02                      \n",
       "..   ...    ...           ...    ...   ...        ...        ...        ...\n",
       "64  2025      3            27  12:53  71.6                                 \n",
       "65  2025      3            27  11:53    68                                 \n",
       "66  2025      3            27  10:53  64.4                                 \n",
       "67  2025      3            27  09:53    59                                 \n",
       "68  2025      3            27  08:53  51.8                                 \n",
       "\n",
       "[69 rows x 8 columns]"
      ]
     },
     "execution_count": 93,
     "metadata": {},
     "output_type": "execute_result"
    }
   ],
   "source": [
    "df"
   ]
  },
  {
   "cell_type": "code",
   "execution_count": 95,
   "id": "761b4195-1ce2-4888-8148-14904f107ccd",
   "metadata": {},
   "outputs": [
    {
     "data": {
      "text/plain": [
       "'2025-03-30T13:38:30+00:00'"
      ]
     },
     "execution_count": 95,
     "metadata": {},
     "output_type": "execute_result"
    }
   ],
   "source": [
    "report_day"
   ]
  },
  {
   "cell_type": "code",
   "execution_count": 97,
   "id": "e80927b2-4f48-4ceb-a7b3-e51819ea6af8",
   "metadata": {},
   "outputs": [
    {
     "data": {
      "text/plain": [
       "'2025-03-30T13-38-30+00-00'"
      ]
     },
     "execution_count": 97,
     "metadata": {},
     "output_type": "execute_result"
    }
   ],
   "source": [
    "fname = report_day.replace(':','-')\n",
    "fname"
   ]
  },
  {
   "cell_type": "code",
   "execution_count": 99,
   "id": "6a479ae0-59fd-480e-bc2c-4e230ff8822c",
   "metadata": {},
   "outputs": [],
   "source": [
    "df.to_csv('../data/nws_past_3/' + fname + '.csv', index=False)"
   ]
  },
  {
   "cell_type": "code",
   "execution_count": null,
   "id": "e7bd576b-331a-4811-87fc-1dbbf00c471f",
   "metadata": {},
   "outputs": [],
   "source": []
  },
  {
   "cell_type": "code",
   "execution_count": null,
   "id": "b6fe1166-6f1a-4d27-ba72-a30b3de4fccf",
   "metadata": {},
   "outputs": [],
   "source": []
  },
  {
   "cell_type": "code",
   "execution_count": null,
   "id": "22114aec-5681-4e5f-a244-1e4f6ab28d09",
   "metadata": {},
   "outputs": [
    {
     "name": "stdout",
     "output_type": "stream",
     "text": [
      "Starting imports\n",
      "Starting loop\n",
      "\n",
      "Seconds left until next scrape: 0\n",
      "Saved as 2025-04-01T13-58-00+00-00\n",
      "Seconds left until next scrape: 86356"
     ]
    }
   ],
   "source": [
    "import requests\n",
    "from bs4 import BeautifulSoup as BS\n",
    "import pandas as pd\n",
    "import time\n",
    "\n",
    "print('Starting imports')\n",
    "\n",
    "URL = 'https://forecast.weather.gov/data/obhistory/KBNA.html'\n",
    "\n",
    "# t = 86400\n",
    "t = 5\n",
    "\n",
    "print('Starting loop')\n",
    "print('')\n",
    "\n",
    "while True:\n",
    "    t -= 1\n",
    "    print(f\"\\rSeconds left until next scrape: {t}\", end=\"\")\n",
    "    if t == 0 :\n",
    "        try :\n",
    "            response = requests.get(URL)\n",
    "            if(response.status_code == 200) :\n",
    "                soup = BS(response.text)\n",
    "                report_day = soup.findAll('meta', attrs={'name' : 'DC.date.created'})[0]['content']\n",
    "                # the format looks like: report_day = '2025-04-01T05:22:13+00:00'\n",
    "                df = pd.DataFrame(columns = ['year','month','day_of_month','time','temp','precip_1_h','precip_3_h','precip_6_h'])\n",
    "                i = 0\n",
    "                for row in soup.find('tbody').findAll('tr') :\n",
    "                    data = row.findAll('td')\n",
    "                    df.loc[i,'year'] = report_day[0:4]\n",
    "                    df.loc[i,'month'] = report_day[5:7]\n",
    "                    df.loc[i,'day_of_month'] = data[0].text\n",
    "                    df.loc[i,'time'] = data[1].text\n",
    "                    df.loc[i,'temp'] = data[6].text\n",
    "                    df.loc[i,'precip_1_h'] = data[15].text\n",
    "                    df.loc[i,'precip_3_h'] = data[16].text\n",
    "                    df.loc[i,'precip_6_h'] = data[17].text\n",
    "                    i += 1\n",
    "                df = df.astype({'year':'int', 'month':'int', 'day_of_month': 'int'})\n",
    "                day_part = int(report_day[8:10])\n",
    "                #but now I need to fix the month and year rollovers, for when the report date will show the wrong (later) month or year!\n",
    "                for index, row in df.iterrows() :\n",
    "                    if day_part < row['day_of_month'] :\n",
    "                    \tdf.loc[index,'month'] -= 1\t\t# for example, if report day is April 1, but if the site's day is listed as 30, that needs to be adjusted to MARCH 30.\n",
    "                    \tif row['month'] < 1 :\t                    # handle the case for January 1 & 2 rollovers!  I won't use it in this project though.\n",
    "                    \t\tdf.loc[index,'month'] = 12\n",
    "                    \t\tdf.loc[index,'year'] -= 1\n",
    "                fname = report_day.replace(':','-')\n",
    "                df.to_csv('../data/nws_past_3/' + fname + '.csv', index=False)\n",
    "                print('')\n",
    "                print('Saved as ' + fname)\n",
    "                t = 86400\n",
    "            else :\n",
    "                print('')\n",
    "                print('Error!  Response : ' + str(response))\n",
    "                print('Trying again in 60 seconds.')\n",
    "                t = 60\n",
    "        except:\n",
    "            print('')\n",
    "            print('Something went wrong, trying again in 60 seconds.')\n",
    "            print('')\n",
    "            t = 60\n",
    "    time.sleep(1)"
   ]
  },
  {
   "cell_type": "code",
   "execution_count": null,
   "id": "23fa5249-2e63-47de-ab21-28b9111ad7bb",
   "metadata": {},
   "outputs": [],
   "source": []
  }
 ],
 "metadata": {
  "kernelspec": {
   "display_name": "Python [conda env:base] *",
   "language": "python",
   "name": "conda-base-py"
  },
  "language_info": {
   "codemirror_mode": {
    "name": "ipython",
    "version": 3
   },
   "file_extension": ".py",
   "mimetype": "text/x-python",
   "name": "python",
   "nbconvert_exporter": "python",
   "pygments_lexer": "ipython3",
   "version": "3.12.7"
  }
 },
 "nbformat": 4,
 "nbformat_minor": 5
}
