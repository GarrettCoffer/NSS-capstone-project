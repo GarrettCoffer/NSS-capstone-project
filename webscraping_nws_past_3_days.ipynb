{
 "cells": [
  {
   "cell_type": "code",
   "execution_count": null,
   "id": "22114aec-5681-4e5f-a244-1e4f6ab28d09",
   "metadata": {},
   "outputs": [
    {
     "name": "stdout",
     "output_type": "stream",
     "text": [
      "Starting imports\n",
      "Starting loop\n",
      "\n",
      "Seconds left until next scrape: 0\n",
      "Saved as 2025-04-03T21-09-01+00-00\n",
      "Seconds left until next scrape: 00000\n",
      "Saved as 2025-04-04T21-04-26+00-00\n",
      "Seconds left until next scrape: 85197"
     ]
    }
   ],
   "source": [
    "#This notebook needs to be run every other day!  (Every day is fine, too.)\n",
    "#This will webscrape the last 3 days worth of weather data from weather.gov (which is all that is available)\n",
    "\n",
    "# This is set up to automatically run every day, 86400 seconds.\n",
    "\n",
    "print('Starting imports')\n",
    "\n",
    "#imports\n",
    "import requests\n",
    "from bs4 import BeautifulSoup as BS\n",
    "import pandas as pd\n",
    "import time\n",
    "\n",
    "URL = 'https://forecast.weather.gov/data/obhistory/KBNA.html'\n",
    "\n",
    "# for the first one, run it in 5 seconds!\n",
    "t = 5\n",
    "\n",
    "print('Starting loop')\n",
    "print('')\n",
    "\n",
    "while True:\n",
    "    t -= 1\n",
    "    print(f\"\\rSeconds left until next scrape: {t}\", end=\"\")\n",
    "    if t == 0 :\n",
    "        try :\n",
    "            response = requests.get(URL)\n",
    "            if(response.status_code == 200) :\n",
    "                soup = BS(response.text)\n",
    "                report_day = soup.findAll('meta', attrs={'name' : 'DC.date.created'})[0]['content']\n",
    "                # the format looks like: report_day = '2025-04-01T05:22:13+00:00'\n",
    "                df = pd.DataFrame(columns = ['year','month','day_of_month','time','temp','precip_1_h','precip_3_h','precip_6_h'])\n",
    "                i = 0\n",
    "                for row in soup.find('tbody').findAll('tr') :\n",
    "                    data = row.findAll('td')\n",
    "                    df.loc[i,'year'] = report_day[0:4]\n",
    "                    df.loc[i,'month'] = report_day[5:7]\n",
    "                    df.loc[i,'day_of_month'] = data[0].text\n",
    "                    df.loc[i,'time'] = data[1].text\n",
    "                    df.loc[i,'temp'] = data[6].text\n",
    "                    df.loc[i,'precip_1_h'] = data[15].text\n",
    "                    df.loc[i,'precip_3_h'] = data[16].text\n",
    "                    df.loc[i,'precip_6_h'] = data[17].text\n",
    "                    i += 1\n",
    "                df = df.astype({'year':'int', 'month':'int', 'day_of_month': 'int'})\n",
    "                day_part = int(report_day[8:10])\n",
    "                #but now I need to fix the month and year rollovers, for when the report date will show the wrong (later) month or year!\n",
    "                for index, row in df.iterrows() :\n",
    "                    if day_part < row['day_of_month'] :\n",
    "                    \tdf.loc[index,'month'] -= 1\t\t# for example, if report day is April 1, but if the site's day is listed as 30, that needs to be adjusted to MARCH 30.\n",
    "                    \tif row['month'] < 1 :\t                    # handle the case for January 1 & 2 rollovers!  I won't use it in this project though.\n",
    "                    \t\tdf.loc[index,'month'] = 12\n",
    "                    \t\tdf.loc[index,'year'] -= 1\n",
    "                fname = report_day.replace(':','-')\n",
    "                df.to_csv('../data/nws_past_3/' + fname + '.csv', index=False)\n",
    "                print('')\n",
    "                print('Saved as ' + fname)\n",
    "                t = 86400          # set the next countdown to 86400 seconds, 1 day later\n",
    "            else :\n",
    "                print('')\n",
    "                print('Error!  Response : ' + str(response))\n",
    "                print('Trying again in 60 seconds.')\n",
    "                t = 60\n",
    "        except:\n",
    "            print('')\n",
    "            print('Something went wrong, trying again in 60 seconds.')\n",
    "            print('')\n",
    "            t = 60\n",
    "    time.sleep(1)              # count down every second!"
   ]
  },
  {
   "cell_type": "code",
   "execution_count": null,
   "id": "824b5011-3231-47bc-8250-15e5e3496a27",
   "metadata": {},
   "outputs": [],
   "source": []
  }
 ],
 "metadata": {
  "kernelspec": {
   "display_name": "Python [conda env:base] *",
   "language": "python",
   "name": "conda-base-py"
  },
  "language_info": {
   "codemirror_mode": {
    "name": "ipython",
    "version": 3
   },
   "file_extension": ".py",
   "mimetype": "text/x-python",
   "name": "python",
   "nbconvert_exporter": "python",
   "pygments_lexer": "ipython3",
   "version": "3.12.7"
  }
 },
 "nbformat": 4,
 "nbformat_minor": 5
}
