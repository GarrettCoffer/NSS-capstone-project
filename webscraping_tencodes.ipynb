{
 "cells": [
  {
   "cell_type": "code",
   "execution_count": 13,
   "id": "15ed0522-11d4-4119-affc-90f90f76df2e",
   "metadata": {},
   "outputs": [],
   "source": [
    "import requests\n",
    "from bs4 import BeautifulSoup as BS\n",
    "import pandas as pd"
   ]
  },
  {
   "cell_type": "code",
   "execution_count": 3,
   "id": "6a1913c7-d98d-4fac-87b8-45b5017aa9fc",
   "metadata": {},
   "outputs": [],
   "source": [
    "URL = 'https://wiki.radioreference.com/index.php/Davidson_County_(TN)'"
   ]
  },
  {
   "cell_type": "code",
   "execution_count": 5,
   "id": "6204c54c-7fe2-4c08-a28b-f993ffb0714f",
   "metadata": {},
   "outputs": [],
   "source": [
    "response = requests.get(URL)"
   ]
  },
  {
   "cell_type": "code",
   "execution_count": 7,
   "id": "eb41130a-41b4-44f8-94ae-6bc06f2da5ac",
   "metadata": {},
   "outputs": [],
   "source": [
    "soup = BS(response.text)"
   ]
  },
  {
   "cell_type": "code",
   "execution_count": 59,
   "id": "7a54cff6-292c-4e5e-adb1-3c1365521a87",
   "metadata": {
    "scrolled": true
   },
   "outputs": [],
   "source": [
    "# html looks like:\n",
    "# <h3><span class=\"mw-headline\" id=\"Ten_Codes\">Ten Codes</span></h3>\n",
    "# <pre>-10-1 Receiving Poorly\n",
    "# -2 Receiving Well\n",
    "# -3 special assignment\n",
    "\n",
    "# Looking for the tag <h3> that contains <span class=\"mw-headline\" id=\"Ten_Codes\">, followed by a <pre>.\n",
    "# I want the contents of the <pre>"
   ]
  },
  {
   "cell_type": "code",
   "execution_count": 73,
   "id": "c787e2ec-3a3c-4b1f-b989-20941192ae71",
   "metadata": {},
   "outputs": [
    {
     "name": "stdout",
     "output_type": "stream",
     "text": [
      "Found it!  Assigned to p.\n"
     ]
    }
   ],
   "source": [
    "possibles = []\n",
    "i = 0\n",
    "\n",
    "for h in soup.findAll('h3') :\n",
    "    if 'Ten_Codes' in str(h) :\n",
    "        possibles.append(i)\n",
    "        #print(h.find_next_sibling('pre'))\n",
    "    i += 1\n",
    "\n",
    "if len(possibles) == 0 :\n",
    "    print('No results.  Look into the html again...')\n",
    "elif len(possibles) > 1 :\n",
    "    print('More than 1 result.  ' + str(len(possibles)) + ' found.  Look into the html again...')\n",
    "else :\n",
    "    print('Found it!  Assigned to p.')\n",
    "    p = soup.findAll('h3')[possibles[0]].find_next_sibling('pre')"
   ]
  },
  {
   "cell_type": "code",
   "execution_count": null,
   "id": "bc4e4da2-fced-40b9-a770-670e2dcc960f",
   "metadata": {},
   "outputs": [],
   "source": [
    "# get the first number before the first space, and everything after the first space (in proper case)"
   ]
  },
  {
   "cell_type": "code",
   "execution_count": null,
   "id": "a08ed215-89cb-4cc0-85b0-f530bfc50d63",
   "metadata": {},
   "outputs": [],
   "source": []
  },
  {
   "cell_type": "code",
   "execution_count": null,
   "id": "b87a2ac0-cd5e-4f13-a54a-798b2f26ad9d",
   "metadata": {},
   "outputs": [],
   "source": []
  },
  {
   "cell_type": "code",
   "execution_count": 87,
   "id": "4654fdba-b454-486d-bfa3-66ffc03651c2",
   "metadata": {},
   "outputs": [
    {
     "data": {
      "text/plain": [
       "['-10-1 Receiving Poorly',\n",
       " '-2 Receiving Well',\n",
       " '-3 special assignment',\n",
       " '-4 acknowledgement',\n",
       " '-7 Out of Service',\n",
       " '-8 In Service',\n",
       " '-9 Repeat transmission',\n",
       " '-13 suspects very dangerous',\n",
       " '-14 convoy or escort',\n",
       " '-15 community contact',\n",
       " '-16 transport prisoner',\n",
       " '-20 location',\n",
       " '-28 check full registration',\n",
       " '-30 record check for warrants',\n",
       " '-32 breathalyzer test',\n",
       " '-34 correct time',\n",
       " '-35 mental case',\n",
       " '-37 send back-up',\n",
       " '-40 suspicious person',\n",
       " '-41 domestic problem',\n",
       " '-42 intoxicated person',\n",
       " '-43 want officer for investigation or assistance (broad usage, can be used as catch-all)',\n",
       " '-44 disorderly conduct',\n",
       " '-45 accident- no injury',\n",
       " '-46 accident- injuries',\n",
       " '-47 request medical assistance',\n",
       " '-48 request wrecker',\n",
       " '-49 vehicle blocking right of way',\n",
       " '-50 theft',\n",
       " '-51 stabbing',\n",
       " '-52 shooting',\n",
       " '-53 robbery',\n",
       " '-54 person with a weapon',\n",
       " '-57 fight',\n",
       " '-58 prowler',\n",
       " '-59 indecent exposure',\n",
       " '-60 blood run',\n",
       " '-61 fire',\n",
       " '-62 person calling for help',\n",
       " '-63 attempt suicide',\n",
       " '-64 deceased person',\n",
       " '-65 animal problem',\n",
       " '-66 bomb threat',\n",
       " '-67 rape',\n",
       " '-68 kidnapping',\n",
       " '-70 burglary- residence',\n",
       " '-71 burglary- other',\n",
       " '-72 stolen',\n",
       " '-73 hazardous material',\n",
       " '-75 missing person',\n",
       " '-77 gang activity',\n",
       " '-78 criminal vice',\n",
       " '-79 occult activity',\n",
       " '-80 child abuse',\n",
       " '-83 shots fired',\n",
       " '-85 escaped prisoner',\n",
       " '-87 safety hazard',\n",
       " '-88 investigate 911 hang-up call',\n",
       " '-89 drowning',\n",
       " '-92 fixed post traffic',\n",
       " '-93 traffic violation',\n",
       " '-94 short break',\n",
       " '-95 lunch',\n",
       " '-96 business check',\n",
       " '-97 arrived on scene',\n",
       " '-98 assignment complete',\n",
       " '-99 advise complaint number']"
      ]
     },
     "execution_count": 87,
     "metadata": {},
     "output_type": "execute_result"
    }
   ],
   "source": [
    "p.text.splitlines()"
   ]
  },
  {
   "cell_type": "code",
   "execution_count": null,
   "id": "0313cfc2-8666-4663-8a2d-1d8cd10b5661",
   "metadata": {},
   "outputs": [],
   "source": []
  },
  {
   "cell_type": "code",
   "execution_count": null,
   "id": "b22f6050-a725-4d62-bcc5-ddceafa2d504",
   "metadata": {},
   "outputs": [],
   "source": []
  },
  {
   "cell_type": "code",
   "execution_count": 83,
   "id": "57c0db73-1766-41b1-8a4d-e0628c1f2a23",
   "metadata": {},
   "outputs": [
    {
     "data": {
      "text/plain": [
       "['<pre>-10-1 Receiving Poorly',\n",
       " '-2 Receiving Well',\n",
       " '-3 special assignment',\n",
       " '-4 acknowledgement',\n",
       " '-7 Out of Service',\n",
       " '-8 In Service',\n",
       " '-9 Repeat transmission',\n",
       " '-13 suspects very dangerous',\n",
       " '-14 convoy or escort',\n",
       " '-15 community contact',\n",
       " '-16 transport prisoner',\n",
       " '-20 location',\n",
       " '-28 check full registration',\n",
       " '-30 record check for warrants',\n",
       " '-32 breathalyzer test',\n",
       " '-34 correct time',\n",
       " '-35 mental case',\n",
       " '-37 send back-up',\n",
       " '-40 suspicious person',\n",
       " '-41 domestic problem',\n",
       " '-42 intoxicated person',\n",
       " '-43 want officer for investigation or assistance (broad usage, can be used as catch-all)',\n",
       " '-44 disorderly conduct',\n",
       " '-45 accident- no injury',\n",
       " '-46 accident- injuries',\n",
       " '-47 request medical assistance',\n",
       " '-48 request wrecker',\n",
       " '-49 vehicle blocking right of way',\n",
       " '-50 theft',\n",
       " '-51 stabbing',\n",
       " '-52 shooting',\n",
       " '-53 robbery',\n",
       " '-54 person with a weapon',\n",
       " '-57 fight',\n",
       " '-58 prowler',\n",
       " '-59 indecent exposure',\n",
       " '-60 blood run',\n",
       " '-61 fire',\n",
       " '-62 person calling for help',\n",
       " '-63 attempt suicide',\n",
       " '-64 deceased person',\n",
       " '-65 animal problem',\n",
       " '-66 bomb threat',\n",
       " '-67 rape',\n",
       " '-68 kidnapping',\n",
       " '-70 burglary- residence',\n",
       " '-71 burglary- other',\n",
       " '-72 stolen',\n",
       " '-73 hazardous material',\n",
       " '-75 missing person',\n",
       " '-77 gang activity',\n",
       " '-78 criminal vice',\n",
       " '-79 occult activity',\n",
       " '-80 child abuse',\n",
       " '-83 shots fired',\n",
       " '-85 escaped prisoner',\n",
       " '-87 safety hazard',\n",
       " '-88 investigate 911 hang-up call',\n",
       " '-89 drowning',\n",
       " '-92 fixed post traffic',\n",
       " '-93 traffic violation',\n",
       " '-94 short break',\n",
       " '-95 lunch',\n",
       " '-96 business check',\n",
       " '-97 arrived on scene',\n",
       " '-98 assignment complete',\n",
       " '-99 advise complaint number',\n",
       " '</pre>']"
      ]
     },
     "execution_count": 83,
     "metadata": {},
     "output_type": "execute_result"
    }
   ],
   "source": [
    "str(p).splitlines()"
   ]
  },
  {
   "cell_type": "code",
   "execution_count": null,
   "id": "ff49ecac-a1f3-4881-acec-6d12ac38dcd7",
   "metadata": {},
   "outputs": [],
   "source": []
  },
  {
   "cell_type": "code",
   "execution_count": null,
   "id": "1ebcfadc-643e-4f54-8f08-fdd0813f780b",
   "metadata": {},
   "outputs": [],
   "source": []
  },
  {
   "cell_type": "code",
   "execution_count": 61,
   "id": "723bc2ae-45e4-4c95-912e-6e9b21c595ea",
   "metadata": {},
   "outputs": [
    {
     "data": {
      "text/plain": [
       "<h3><span class=\"mw-headline\" id=\"Ten_Codes\">Ten Codes</span></h3>"
      ]
     },
     "execution_count": 61,
     "metadata": {},
     "output_type": "execute_result"
    }
   ],
   "source": [
    "soup.findAll('h3')[2]"
   ]
  },
  {
   "cell_type": "code",
   "execution_count": null,
   "id": "28992b14-81f3-4c0f-ae62-a1d574aee5c8",
   "metadata": {},
   "outputs": [],
   "source": []
  },
  {
   "cell_type": "code",
   "execution_count": null,
   "id": "5c9ac343-9188-46ef-a235-92d188af77cb",
   "metadata": {},
   "outputs": [],
   "source": [
    "soup.find('span', attrs={'id' : 'Ten_Codes'})"
   ]
  },
  {
   "cell_type": "code",
   "execution_count": 25,
   "id": "c8a24ce0-ffb5-44bf-a4b4-e83b89c54def",
   "metadata": {},
   "outputs": [
    {
     "name": "stdout",
     "output_type": "stream",
     "text": [
      "None\n"
     ]
    }
   ],
   "source": [
    "print(soup.find('span', attrs={'id' : 'Ten_Codes'}).next_sibling)"
   ]
  },
  {
   "cell_type": "code",
   "execution_count": 57,
   "id": "354e38f6-e9c9-4f3c-a2ed-04577b52ad3c",
   "metadata": {},
   "outputs": [
    {
     "name": "stdout",
     "output_type": "stream",
     "text": [
      "[]\n"
     ]
    }
   ],
   "source": [
    "print(soup.find('span', attrs={'id' : 'Ten_Codes'}).find_next_siblings('pre'))"
   ]
  },
  {
   "cell_type": "code",
   "execution_count": 51,
   "id": "bde4a6f3-48b8-4db9-94bd-65c16e62a289",
   "metadata": {},
   "outputs": [
    {
     "data": {
      "text/plain": [
       "<pre>-10-1 Receiving Poorly\n",
       "-2 Receiving Well\n",
       "-3 special assignment\n",
       "-4 acknowledgement\n",
       "-7 Out of Service\n",
       "-8 In Service\n",
       "-9 Repeat transmission\n",
       "-13 suspects very dangerous\n",
       "-14 convoy or escort\n",
       "-15 community contact\n",
       "-16 transport prisoner\n",
       "-20 location\n",
       "-28 check full registration\n",
       "-30 record check for warrants\n",
       "-32 breathalyzer test\n",
       "-34 correct time\n",
       "-35 mental case\n",
       "-37 send back-up\n",
       "-40 suspicious person\n",
       "-41 domestic problem\n",
       "-42 intoxicated person\n",
       "-43 want officer for investigation or assistance (broad usage, can be used as catch-all)\n",
       "-44 disorderly conduct\n",
       "-45 accident- no injury\n",
       "-46 accident- injuries\n",
       "-47 request medical assistance\n",
       "-48 request wrecker\n",
       "-49 vehicle blocking right of way\n",
       "-50 theft\n",
       "-51 stabbing\n",
       "-52 shooting\n",
       "-53 robbery\n",
       "-54 person with a weapon\n",
       "-57 fight\n",
       "-58 prowler\n",
       "-59 indecent exposure\n",
       "-60 blood run\n",
       "-61 fire\n",
       "-62 person calling for help\n",
       "-63 attempt suicide\n",
       "-64 deceased person\n",
       "-65 animal problem\n",
       "-66 bomb threat\n",
       "-67 rape\n",
       "-68 kidnapping\n",
       "-70 burglary- residence\n",
       "-71 burglary- other\n",
       "-72 stolen\n",
       "-73 hazardous material\n",
       "-75 missing person\n",
       "-77 gang activity\n",
       "-78 criminal vice\n",
       "-79 occult activity\n",
       "-80 child abuse\n",
       "-83 shots fired\n",
       "-85 escaped prisoner\n",
       "-87 safety hazard\n",
       "-88 investigate 911 hang-up call\n",
       "-89 drowning\n",
       "-92 fixed post traffic\n",
       "-93 traffic violation\n",
       "-94 short break\n",
       "-95 lunch\n",
       "-96 business check\n",
       "-97 arrived on scene\n",
       "-98 assignment complete\n",
       "-99 advise complaint number\n",
       "</pre>"
      ]
     },
     "execution_count": 51,
     "metadata": {},
     "output_type": "execute_result"
    }
   ],
   "source": [
    "soup.findAll('h3')[2].find_next_sibling('pre')"
   ]
  },
  {
   "cell_type": "code",
   "execution_count": 37,
   "id": "aa4e4f5c-0d10-43b5-9050-b98aee869a1f",
   "metadata": {},
   "outputs": [
    {
     "data": {
      "text/plain": [
       "<pre>-10-1 Receiving Poorly\n",
       "-2 Receiving Well\n",
       "-3 special assignment\n",
       "-4 acknowledgement\n",
       "-7 Out of Service\n",
       "-8 In Service\n",
       "-9 Repeat transmission\n",
       "-13 suspects very dangerous\n",
       "-14 convoy or escort\n",
       "-15 community contact\n",
       "-16 transport prisoner\n",
       "-20 location\n",
       "-28 check full registration\n",
       "-30 record check for warrants\n",
       "-32 breathalyzer test\n",
       "-34 correct time\n",
       "-35 mental case\n",
       "-37 send back-up\n",
       "-40 suspicious person\n",
       "-41 domestic problem\n",
       "-42 intoxicated person\n",
       "-43 want officer for investigation or assistance (broad usage, can be used as catch-all)\n",
       "-44 disorderly conduct\n",
       "-45 accident- no injury\n",
       "-46 accident- injuries\n",
       "-47 request medical assistance\n",
       "-48 request wrecker\n",
       "-49 vehicle blocking right of way\n",
       "-50 theft\n",
       "-51 stabbing\n",
       "-52 shooting\n",
       "-53 robbery\n",
       "-54 person with a weapon\n",
       "-57 fight\n",
       "-58 prowler\n",
       "-59 indecent exposure\n",
       "-60 blood run\n",
       "-61 fire\n",
       "-62 person calling for help\n",
       "-63 attempt suicide\n",
       "-64 deceased person\n",
       "-65 animal problem\n",
       "-66 bomb threat\n",
       "-67 rape\n",
       "-68 kidnapping\n",
       "-70 burglary- residence\n",
       "-71 burglary- other\n",
       "-72 stolen\n",
       "-73 hazardous material\n",
       "-75 missing person\n",
       "-77 gang activity\n",
       "-78 criminal vice\n",
       "-79 occult activity\n",
       "-80 child abuse\n",
       "-83 shots fired\n",
       "-85 escaped prisoner\n",
       "-87 safety hazard\n",
       "-88 investigate 911 hang-up call\n",
       "-89 drowning\n",
       "-92 fixed post traffic\n",
       "-93 traffic violation\n",
       "-94 short break\n",
       "-95 lunch\n",
       "-96 business check\n",
       "-97 arrived on scene\n",
       "-98 assignment complete\n",
       "-99 advise complaint number\n",
       "</pre>"
      ]
     },
     "execution_count": 37,
     "metadata": {},
     "output_type": "execute_result"
    }
   ],
   "source": [
    "soup.findAll('h3')[2].next_sibling.next_sibling"
   ]
  },
  {
   "cell_type": "code",
   "execution_count": null,
   "id": "e454dfe3-9b14-4747-8f61-7353a782cab4",
   "metadata": {},
   "outputs": [],
   "source": []
  },
  {
   "cell_type": "code",
   "execution_count": 87,
   "id": "8d3e5048-dfc8-42b7-8bf3-3bbb104f192f",
   "metadata": {},
   "outputs": [],
   "source": [
    "\n",
    "    \n",
    "\n",
    "    \n",
    "# From Titans, modify for tencodes... convert to dataframe...\n",
    "    \n",
    "    df = pd.DataFrame(columns = ['season','date','outcome','score','prefix','vs'])\n",
    "    \n",
    "    season = 'Regular Season'\n",
    "\n",
    "    # loop through the games listed on the site, and add each one to the dataframe\n",
    "    i = 0\n",
    "    for game in soup.findAll('div', attrs={'class' : 'nfl-o-matchup-cards nfl-o-matchup-cards--post-game'}) :\n",
    "        if i > 0 and game['data-gametime'][0:10] < df.loc[i-1,'date'] :\n",
    "            season = 'Postseason'\n",
    "        df.loc[i,'season'] = season\n",
    "        df.loc[i,'date'] = game['data-gametime'][0:10]\n",
    "        df.loc[i,'outcome'] = game.find('span', attrs={'class' : 'nfl-o-matchup-cards__score--result'}).text\n",
    "        df.loc[i,'score'] = game.find('span', attrs={'class' : 'nfl-o-matchup-cards__score--points'}).text\n",
    "        if game.find('span', attrs={'class' : 'nfl-o-matchup-cards__team-prefix'}) != None :\n",
    "            df.loc[i,'prefix'] = game.find('span', attrs={'class' : 'nfl-o-matchup-cards__team-prefix'}).text\n",
    "        else :\n",
    "            df.loc[i,'prefix'] = ''\n",
    "        df.loc[i,'vs'] = game.find('p', attrs={'class' : 'nfl-o-matchup-cards__team-full-name'}).text.strip()\n",
    "        i += 1\n",
    "\n",
    "    # save the csv\n",
    "    df.to_csv('../data/tencodes.csv', index=False)"
   ]
  },
  {
   "cell_type": "code",
   "execution_count": null,
   "id": "bff83e83-83ed-4979-9402-b0c24a388a6f",
   "metadata": {},
   "outputs": [],
   "source": []
  }
 ],
 "metadata": {
  "kernelspec": {
   "display_name": "Python [conda env:base] *",
   "language": "python",
   "name": "conda-base-py"
  },
  "language_info": {
   "codemirror_mode": {
    "name": "ipython",
    "version": 3
   },
   "file_extension": ".py",
   "mimetype": "text/x-python",
   "name": "python",
   "nbconvert_exporter": "python",
   "pygments_lexer": "ipython3",
   "version": "3.12.7"
  }
 },
 "nbformat": 4,
 "nbformat_minor": 5
}
