{
 "cells": [
  {
   "cell_type": "code",
   "execution_count": 77,
   "id": "15ed0522-11d4-4119-affc-90f90f76df2e",
   "metadata": {},
   "outputs": [],
   "source": [
    "import requests\n",
    "from bs4 import BeautifulSoup as BS\n",
    "import pandas as pd\n",
    "import time"
   ]
  },
  {
   "cell_type": "code",
   "execution_count": 87,
   "id": "8d3e5048-dfc8-42b7-8bf3-3bbb104f192f",
   "metadata": {},
   "outputs": [],
   "source": [
    "# scrape from 2018 - 2024\n",
    "for yr in range(2018,2025) :\n",
    "\n",
    "    URL = 'https://www.tennesseetitans.com/schedule/' + str(yr) +'/'\n",
    "    \n",
    "    response = requests.get(URL)\n",
    "    \n",
    "    soup = BS(response.text)\n",
    "    \n",
    "    df = pd.DataFrame(columns = ['season','date','outcome','score','prefix','vs'])\n",
    "    \n",
    "    season = 'Regular Season'\n",
    "\n",
    "    # loop through the games listed on the site, and add each one to the dataframe\n",
    "    i = 0\n",
    "    for game in soup.findAll('div', attrs={'class' : 'nfl-o-matchup-cards nfl-o-matchup-cards--post-game'}) :\n",
    "        if i > 0 and game['data-gametime'][0:10] < df.loc[i-1,'date'] :\n",
    "            season = 'Postseason'\n",
    "        df.loc[i,'season'] = season\n",
    "        df.loc[i,'date'] = game['data-gametime'][0:10]\n",
    "        df.loc[i,'outcome'] = game.find('span', attrs={'class' : 'nfl-o-matchup-cards__score--result'}).text\n",
    "        df.loc[i,'score'] = game.find('span', attrs={'class' : 'nfl-o-matchup-cards__score--points'}).text\n",
    "        if game.find('span', attrs={'class' : 'nfl-o-matchup-cards__team-prefix'}) != None :\n",
    "            df.loc[i,'prefix'] = game.find('span', attrs={'class' : 'nfl-o-matchup-cards__team-prefix'}).text\n",
    "        else :\n",
    "            df.loc[i,'prefix'] = ''\n",
    "        df.loc[i,'vs'] = game.find('p', attrs={'class' : 'nfl-o-matchup-cards__team-full-name'}).text.strip()\n",
    "        i += 1\n",
    "\n",
    "    # save each file as a csv, and wait 3 seconds to not ping too frequently\n",
    "    df.to_csv('../data/titans_games/titans_' + str(yr) + '.csv', index=False)\n",
    "    time.sleep(3)"
   ]
  },
  {
   "cell_type": "code",
   "execution_count": null,
   "id": "bff83e83-83ed-4979-9402-b0c24a388a6f",
   "metadata": {},
   "outputs": [],
   "source": []
  }
 ],
 "metadata": {
  "kernelspec": {
   "display_name": "Python [conda env:base] *",
   "language": "python",
   "name": "conda-base-py"
  },
  "language_info": {
   "codemirror_mode": {
    "name": "ipython",
    "version": 3
   },
   "file_extension": ".py",
   "mimetype": "text/x-python",
   "name": "python",
   "nbconvert_exporter": "python",
   "pygments_lexer": "ipython3",
   "version": "3.12.7"
  }
 },
 "nbformat": 4,
 "nbformat_minor": 5
}
