{
 "cells": [
  {
   "cell_type": "code",
   "execution_count": 1,
   "id": "27d17fa3-4367-44e5-9d5f-f8b27e62cf48",
   "metadata": {},
   "outputs": [],
   "source": [
    "# Run to stitch the active dispatch tables together.  \n",
    "# input: ../data/active_dispatch/[time code].csv  \n",
    "# output: ../data/active_dispatch.csv  "
   ]
  },
  {
   "cell_type": "code",
   "execution_count": 3,
   "id": "ed1f9c4c-aa4c-4d17-b717-78905377bc2f",
   "metadata": {},
   "outputs": [],
   "source": [
    "import datetime\n",
    "import pandas as pd\n",
    "import os\n",
    "import re"
   ]
  },
  {
   "cell_type": "code",
   "execution_count": 4,
   "id": "c0e22d58-285e-4355-8d55-3b51cdb4e650",
   "metadata": {},
   "outputs": [],
   "source": [
    "folder = '../data/active_dispatch/'\n",
    "output = '../data/active_dispatch.csv'"
   ]
  },
  {
   "cell_type": "code",
   "execution_count": 7,
   "id": "51e6c823-43ec-4ca1-86b6-39b09985f996",
   "metadata": {},
   "outputs": [],
   "source": [
    "# step 1 - merge!\n",
    "\n",
    "# step 1a - loop through the files, merging them"
   ]
  },
  {
   "cell_type": "code",
   "execution_count": 9,
   "id": "af010e28-f812-43cd-85f2-6454ad7aebad",
   "metadata": {},
   "outputs": [],
   "source": [
    "ad = pd.DataFrame(columns = ['incident_type_code','incident_type_name','call_received_time','location',\n",
    "                             'location_description','city_name','last_updated'])"
   ]
  },
  {
   "cell_type": "code",
   "execution_count": 11,
   "id": "76d2dc74-e9a6-44c4-bd11-8bf2682c3dc9",
   "metadata": {},
   "outputs": [
    {
     "name": "stdout",
     "output_type": "stream",
     "text": [
      "starting...\n",
      "processing file 2527 of 2527: 1744649821000.csv                  \n",
      "done!\n"
     ]
    }
   ],
   "source": [
    "files = [f for f in os.listdir(folder)]\n",
    "\n",
    "print('starting...')\n",
    "\n",
    "# processing file X of Y: filename.csv\n",
    "\n",
    "x = 1\n",
    "y = len(files)\n",
    "\n",
    "for file in files :\n",
    "    print(f\"\\rprocessing file {x} of {y}: {file}                  \", end=\"\")\n",
    "    next_df = pd.read_csv(folder + str(file))\n",
    "    ad = pd.concat([ad, next_df])\n",
    "    x += 1\n",
    "\n",
    "print()\n",
    "print('done!')"
   ]
  },
  {
   "cell_type": "code",
   "execution_count": 12,
   "id": "f0ae3a7f-9c69-4b88-9e35-5fbd6fbb31a2",
   "metadata": {},
   "outputs": [
    {
     "name": "stdout",
     "output_type": "stream",
     "text": [
      "30074\n"
     ]
    }
   ],
   "source": [
    "print(len(ad)) # how many records?"
   ]
  },
  {
   "cell_type": "code",
   "execution_count": 13,
   "id": "ca045165-8b2f-4d07-bc3b-d50d787a937c",
   "metadata": {},
   "outputs": [
    {
     "name": "stdout",
     "output_type": "stream",
     "text": [
      "incident_type_code          0\n",
      "incident_type_name          0\n",
      "call_received_time          0\n",
      "location                    0\n",
      "location_description    30074\n",
      "city_name                   0\n",
      "last_updated                0\n",
      "dtype: int64\n"
     ]
    }
   ],
   "source": [
    "# make sure I know which columns have nulls...\n",
    "nulls_per_column = ad.isnull().sum()\n",
    "print(nulls_per_column)"
   ]
  },
  {
   "cell_type": "code",
   "execution_count": 14,
   "id": "45222d81-d894-440b-8ef0-02628ef16be5",
   "metadata": {},
   "outputs": [],
   "source": [
    "# step 1b - group by to get rid of the duplicates, keeping only the latest last_updated record\n",
    "# Group By [incident_type_code], [incident_type_name], etc... EVERYTHING EXCEPT [last_updated]... use the MAX([last_updated])"
   ]
  },
  {
   "cell_type": "code",
   "execution_count": 15,
   "id": "fe42963d-0bf5-4400-bae4-99f2bf5b1102",
   "metadata": {},
   "outputs": [],
   "source": [
    "ad = ad.groupby(['incident_type_code','incident_type_name','call_received_time',\n",
    "                 'location','city_name'])['last_updated'].max().reset_index()"
   ]
  },
  {
   "cell_type": "code",
   "execution_count": 16,
   "id": "da9c0303-7505-42e0-8e57-bb48e0b6e847",
   "metadata": {},
   "outputs": [],
   "source": [
    "ad = ad.sort_values(by = 'call_received_time').reset_index()"
   ]
  },
  {
   "cell_type": "code",
   "execution_count": 17,
   "id": "7d6842d1-418e-494e-a9ac-4aebc80db4d8",
   "metadata": {},
   "outputs": [
    {
     "data": {
      "text/html": [
       "<div>\n",
       "<style scoped>\n",
       "    .dataframe tbody tr th:only-of-type {\n",
       "        vertical-align: middle;\n",
       "    }\n",
       "\n",
       "    .dataframe tbody tr th {\n",
       "        vertical-align: top;\n",
       "    }\n",
       "\n",
       "    .dataframe thead th {\n",
       "        text-align: right;\n",
       "    }\n",
       "</style>\n",
       "<table border=\"1\" class=\"dataframe\">\n",
       "  <thead>\n",
       "    <tr style=\"text-align: right;\">\n",
       "      <th></th>\n",
       "      <th>index</th>\n",
       "      <th>incident_type_code</th>\n",
       "      <th>incident_type_name</th>\n",
       "      <th>call_received_time</th>\n",
       "      <th>location</th>\n",
       "      <th>city_name</th>\n",
       "      <th>last_updated</th>\n",
       "    </tr>\n",
       "  </thead>\n",
       "  <tbody>\n",
       "    <tr>\n",
       "      <th>0</th>\n",
       "      <td>618</td>\n",
       "      <td>70A</td>\n",
       "      <td>RESIDENCE-BURGLARY ALARM</td>\n",
       "      <td>1743085667000</td>\n",
       "      <td>719 MYRTLE ST</td>\n",
       "      <td>EAST</td>\n",
       "      <td>1743103621000</td>\n",
       "    </tr>\n",
       "    <tr>\n",
       "      <th>1</th>\n",
       "      <td>1359</td>\n",
       "      <td>71A</td>\n",
       "      <td>NON-RESIDENCE-BURGLARY ALARM</td>\n",
       "      <td>1743085918000</td>\n",
       "      <td>3188 DICKERSON PIKE</td>\n",
       "      <td>EAST</td>\n",
       "      <td>1743103621000</td>\n",
       "    </tr>\n",
       "    <tr>\n",
       "      <th>2</th>\n",
       "      <td>2658</td>\n",
       "      <td>83P</td>\n",
       "      <td>SHOTS FIRED</td>\n",
       "      <td>1743093178000</td>\n",
       "      <td>1433 PENNOCK AVE</td>\n",
       "      <td>EAST</td>\n",
       "      <td>1743115680000</td>\n",
       "    </tr>\n",
       "    <tr>\n",
       "      <th>3</th>\n",
       "      <td>2616</td>\n",
       "      <td>71P</td>\n",
       "      <td>BURGLARY-NON-RESIDENCE BREAK-IN</td>\n",
       "      <td>1743094882000</td>\n",
       "      <td>360 WALLACE RD</td>\n",
       "      <td>PARAGON MILLS</td>\n",
       "      <td>1743110280000</td>\n",
       "    </tr>\n",
       "    <tr>\n",
       "      <th>4</th>\n",
       "      <td>619</td>\n",
       "      <td>70A</td>\n",
       "      <td>RESIDENCE-BURGLARY ALARM</td>\n",
       "      <td>1743095110000</td>\n",
       "      <td>1236 BRENTWOOD HIGHLANDS DR</td>\n",
       "      <td>NIPPERS CORNER</td>\n",
       "      <td>1743103621000</td>\n",
       "    </tr>\n",
       "    <tr>\n",
       "      <th>...</th>\n",
       "      <td>...</td>\n",
       "      <td>...</td>\n",
       "      <td>...</td>\n",
       "      <td>...</td>\n",
       "      <td>...</td>\n",
       "      <td>...</td>\n",
       "      <td>...</td>\n",
       "    </tr>\n",
       "    <tr>\n",
       "      <th>3478</th>\n",
       "      <td>22</td>\n",
       "      <td>51P</td>\n",
       "      <td>CUTTING OR STABBING IN PROGRESS</td>\n",
       "      <td>1744646589000</td>\n",
       "      <td>631 7TH AVE S</td>\n",
       "      <td>CENTRAL</td>\n",
       "      <td>1744647480000</td>\n",
       "    </tr>\n",
       "    <tr>\n",
       "      <th>3479</th>\n",
       "      <td>1357</td>\n",
       "      <td>70P</td>\n",
       "      <td>BURGLARY-RESIDENCE BREAK-IN</td>\n",
       "      <td>1744646715000</td>\n",
       "      <td>1211 BELL RD</td>\n",
       "      <td>ANTIOCH</td>\n",
       "      <td>1744648020000</td>\n",
       "    </tr>\n",
       "    <tr>\n",
       "      <th>3480</th>\n",
       "      <td>616</td>\n",
       "      <td>64P</td>\n",
       "      <td>CORPSE/D.O.A</td>\n",
       "      <td>1744646770000</td>\n",
       "      <td>910 33RD AVE N</td>\n",
       "      <td>NORTH</td>\n",
       "      <td>1744649821000</td>\n",
       "    </tr>\n",
       "    <tr>\n",
       "      <th>3481</th>\n",
       "      <td>617</td>\n",
       "      <td>64P</td>\n",
       "      <td>CORPSE/D.O.A</td>\n",
       "      <td>1744648594000</td>\n",
       "      <td>508 MAIN ST</td>\n",
       "      <td>EDGEFIELD</td>\n",
       "      <td>1744648741000</td>\n",
       "    </tr>\n",
       "    <tr>\n",
       "      <th>3482</th>\n",
       "      <td>482</td>\n",
       "      <td>57P</td>\n",
       "      <td>FIGHT/ASSAULT</td>\n",
       "      <td>1744649187000</td>\n",
       "      <td>3900 STEPHENS RIDGE WAY</td>\n",
       "      <td>ANTIOCH</td>\n",
       "      <td>1744649821000</td>\n",
       "    </tr>\n",
       "  </tbody>\n",
       "</table>\n",
       "<p>3483 rows × 7 columns</p>\n",
       "</div>"
      ],
      "text/plain": [
       "      index incident_type_code               incident_type_name  \\\n",
       "0       618                70A         RESIDENCE-BURGLARY ALARM   \n",
       "1      1359                71A     NON-RESIDENCE-BURGLARY ALARM   \n",
       "2      2658                83P                      SHOTS FIRED   \n",
       "3      2616                71P  BURGLARY-NON-RESIDENCE BREAK-IN   \n",
       "4       619                70A         RESIDENCE-BURGLARY ALARM   \n",
       "...     ...                ...                              ...   \n",
       "3478     22                51P  CUTTING OR STABBING IN PROGRESS   \n",
       "3479   1357                70P      BURGLARY-RESIDENCE BREAK-IN   \n",
       "3480    616                64P                     CORPSE/D.O.A   \n",
       "3481    617                64P                     CORPSE/D.O.A   \n",
       "3482    482                57P                    FIGHT/ASSAULT   \n",
       "\n",
       "      call_received_time                     location       city_name  \\\n",
       "0          1743085667000                719 MYRTLE ST            EAST   \n",
       "1          1743085918000          3188 DICKERSON PIKE            EAST   \n",
       "2          1743093178000             1433 PENNOCK AVE            EAST   \n",
       "3          1743094882000               360 WALLACE RD   PARAGON MILLS   \n",
       "4          1743095110000  1236 BRENTWOOD HIGHLANDS DR  NIPPERS CORNER   \n",
       "...                  ...                          ...             ...   \n",
       "3478       1744646589000                631 7TH AVE S         CENTRAL   \n",
       "3479       1744646715000                 1211 BELL RD         ANTIOCH   \n",
       "3480       1744646770000               910 33RD AVE N           NORTH   \n",
       "3481       1744648594000                  508 MAIN ST       EDGEFIELD   \n",
       "3482       1744649187000      3900 STEPHENS RIDGE WAY         ANTIOCH   \n",
       "\n",
       "       last_updated  \n",
       "0     1743103621000  \n",
       "1     1743103621000  \n",
       "2     1743115680000  \n",
       "3     1743110280000  \n",
       "4     1743103621000  \n",
       "...             ...  \n",
       "3478  1744647480000  \n",
       "3479  1744648020000  \n",
       "3480  1744649821000  \n",
       "3481  1744648741000  \n",
       "3482  1744649821000  \n",
       "\n",
       "[3483 rows x 7 columns]"
      ]
     },
     "execution_count": 17,
     "metadata": {},
     "output_type": "execute_result"
    }
   ],
   "source": [
    "ad"
   ]
  },
  {
   "cell_type": "markdown",
   "id": "a3d1c775-312f-4cda-aca4-98d2aefe3ccf",
   "metadata": {},
   "source": [
    "### step 2 - calculate and format!"
   ]
  },
  {
   "cell_type": "code",
   "execution_count": 19,
   "id": "313f044e-0327-4b2b-87e2-174ff0ee19c3",
   "metadata": {},
   "outputs": [],
   "source": [
    "processed_ad = pd.DataFrame(columns = ['code',        # incident_type_code\n",
    "                                        'date',       # calculate from call_received_time (UNIX time stamp)\n",
    "                                        'hr',         # calculate from call_received_time\n",
    "                                        'time',       # calculate from call_received_time\n",
    "                                        'address',    #\tcalculate from location + \", NASHVILLE, TN\"\n",
    "                                        'ert_mins'])  # (Estimated Resolution Time: ert) calculated from last_updated\n",
    "\n",
    "dtypes = {\n",
    "    'code': 'string',\n",
    "    'date': 'string',       # preserve the format\n",
    "    'hr': 'string',         # preserve the format, with leading 0 if there\n",
    "    'time': 'string',\n",
    "    'address': 'string',\n",
    "    'ert_mins': 'int'\n",
    "}\n",
    "\n",
    "processed_ad = processed_ad.astype(dtypes)"
   ]
  },
  {
   "cell_type": "code",
   "execution_count": 46,
   "id": "04391844-4068-48b9-93dd-bbf580ecd1db",
   "metadata": {},
   "outputs": [
    {
     "name": "stdout",
     "output_type": "stream",
     "text": [
      "('2025-04-05', '00', '00:39:01')\n",
      "('2025-04-05', '01', '01:00:01')\n",
      "('2025-04-05', '00', '00:45:45')\n",
      "('2025-04-05', '00', '00:48:01')\n"
     ]
    }
   ],
   "source": [
    "def calculate_date(unix_timestamp) :\n",
    "    converted = str(datetime.datetime.fromtimestamp(int(unix_timestamp)/1000))\n",
    "    datepart = converted[0:10]\n",
    "    hr = converted[11:13]\n",
    "    timepart = converted[11:19]\n",
    "    return datepart, hr, timepart\n",
    "\n",
    "print(calculate_date('1743831541000'))\n",
    "print(calculate_date('1743832801000'))\n",
    "print(calculate_date('1743831945000'))\n",
    "print(calculate_date('1743832081000'))\n"
   ]
  },
  {
   "cell_type": "code",
   "execution_count": 40,
   "id": "052c36e4-7697-439b-9353-3def13f789b7",
   "metadata": {},
   "outputs": [
    {
     "name": "stdout",
     "output_type": "stream",
     "text": [
      "6\n",
      "25\n"
     ]
    }
   ],
   "source": [
    "# find the difference of the times, and divide by 60000 to get minutes instead of milliseconds.  Add 4 minutes as an estimate to each max last_updated\n",
    "def calculate_ert(first_time,last_time) :\n",
    "    return round((int(last_time)-int(first_time)) / 60000) + 4\n",
    "\n",
    "print(calculate_ert('1744326418000',1744326541000))\n",
    "print(calculate_ert('1743829005000',1743830281000))"
   ]
  },
  {
   "cell_type": "code",
   "execution_count": 22,
   "id": "b3cc7e11-5a74-4fcb-aef1-72f7e242b7bf",
   "metadata": {},
   "outputs": [
    {
     "name": "stdout",
     "output_type": "stream",
     "text": [
      "processing row 3483 (index 3482) of 3483: call received: 1744649187000          \n",
      "done!\n"
     ]
    }
   ],
   "source": [
    "# processing row X (index) of Y: row[call_received_time]\n",
    "\n",
    "x = 1\n",
    "y = len(ad)\n",
    "\n",
    "for index, row in ad.iterrows() :\n",
    "    print(f\"\\rprocessing row {x} (index {index}) of {y}: call received: {row['call_received_time']}          \", end=\"\")\n",
    "\n",
    "    datepart, hr, timepart = calculate_date(row['call_received_time'])\n",
    "    new_row = {'code': row['incident_type_code'],\n",
    "               'date': datepart,\n",
    "               'hr': hr,\n",
    "               'time': timepart,\n",
    "               'address': row['location'] + ', NASHVILLE, TN',\n",
    "               'ert_mins': calculate_ert(row['call_received_time'],row['last_updated'])\n",
    "               }\n",
    "    processed_ad.loc[len(processed_ad)] = new_row\n",
    "    x += 1\n",
    "\n",
    "print()\n",
    "print('done!')"
   ]
  },
  {
   "cell_type": "code",
   "execution_count": 23,
   "id": "278099f1-c932-467b-b3ab-bc57715c40c7",
   "metadata": {},
   "outputs": [],
   "source": [
    "# save!\n",
    "processed_ad.to_csv(output, index=False)"
   ]
  },
  {
   "cell_type": "code",
   "execution_count": null,
   "id": "fdee19cb-473f-4d6f-b4ac-8945ea2456a6",
   "metadata": {},
   "outputs": [],
   "source": []
  }
 ],
 "metadata": {
  "kernelspec": {
   "display_name": "Python [conda env:base] *",
   "language": "python",
   "name": "conda-base-py"
  },
  "language_info": {
   "codemirror_mode": {
    "name": "ipython",
    "version": 3
   },
   "file_extension": ".py",
   "mimetype": "text/x-python",
   "name": "python",
   "nbconvert_exporter": "python",
   "pygments_lexer": "ipython3",
   "version": "3.12.7"
  }
 },
 "nbformat": 4,
 "nbformat_minor": 5
}
