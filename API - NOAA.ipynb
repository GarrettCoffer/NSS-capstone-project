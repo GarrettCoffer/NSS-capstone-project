{
 "cells": [
  {
   "cell_type": "code",
   "execution_count": 9,
   "metadata": {},
   "outputs": [],
   "source": [
    "import requests\n",
    "import numpy as np\n",
    "import pandas as pd\n",
    "import json\n",
    "import datetime"
   ]
  },
  {
   "cell_type": "code",
   "execution_count": 11,
   "metadata": {},
   "outputs": [],
   "source": [
    "with open('../data/apikeys.json') as fi:\n",
    "    credentials = json.load(fi)\n",
    "api_key = credentials['noaa']"
   ]
  },
  {
   "cell_type": "code",
   "execution_count": 13,
   "metadata": {},
   "outputs": [],
   "source": [
    "# Next step: try collecting data from 1/1/2018-3/31/2025 !"
   ]
  },
  {
   "cell_type": "code",
   "execution_count": 15,
   "metadata": {},
   "outputs": [],
   "source": [
    "# Try from this url:\n",
    "url = 'https://www.ncei.noaa.gov/access/services/data/v1?dataset=daily-summaries&stations=USW00013897&startDate=2020-01-01&endDate=2025-03-31&dataTypes=TMAX,TMIN,PRCP&units=standard&format=json'\n",
    "# If that doesn't work, work on looping through all the dates and requesting batches!"
   ]
  },
  {
   "cell_type": "code",
   "execution_count": 37,
   "metadata": {},
   "outputs": [],
   "source": [
    "# Note: the date range is hard coded into the url for the test run."
   ]
  },
  {
   "cell_type": "code",
   "execution_count": 17,
   "metadata": {},
   "outputs": [],
   "source": [
    "headers = {\"token\":api_key}"
   ]
  },
  {
   "cell_type": "code",
   "execution_count": null,
   "metadata": {},
   "outputs": [],
   "source": [
    "r = requests.get(url, headers = headers)\n",
    "print(r)"
   ]
  },
  {
   "cell_type": "code",
   "execution_count": 23,
   "metadata": {},
   "outputs": [],
   "source": [
    "res = r.json()"
   ]
  },
  {
   "cell_type": "code",
   "execution_count": 41,
   "metadata": {},
   "outputs": [
    {
     "name": "stdout",
     "output_type": "stream",
     "text": [
      "1917\n",
      "{'DATE': '2020-01-01', 'STATION': 'USW00013897', 'TMAX': '52', 'TMIN': '33', 'PRCP': '0.00'}\n"
     ]
    }
   ],
   "source": [
    "print(len(res))\n",
    "print(res[0])"
   ]
  },
  {
   "cell_type": "code",
   "execution_count": 57,
   "metadata": {},
   "outputs": [
    {
     "name": "stdout",
     "output_type": "stream",
     "text": [
      "error in this line:\n",
      "{'DATE': '2020-12-30', 'STATION': 'USW00013897', 'TMAX': '68', 'TMIN': '38'}\n",
      "error in this line:\n",
      "{'DATE': '2020-12-31', 'STATION': 'USW00013897', 'TMAX': '45', 'TMIN': '41'}\n"
     ]
    }
   ],
   "source": [
    "noaa_data = pd.DataFrame(columns = ['date','tmax','tmin','prcp'])\n",
    "for weather_data in res :\n",
    "    try :                                              # apparently the data from 2020-12-30 & 31 don't return PRCP values.\n",
    "        new_row = {'date': weather_data['DATE'],       # I added in this try / except block to handle the missing prcp numbers within this loop.\n",
    "                   'tmax': weather_data['TMAX'],\n",
    "                   'tmin': weather_data['TMIN'],\n",
    "                   'prcp': weather_data['PRCP']}\n",
    "    except :\n",
    "        new_row = {'date': weather_data['DATE'],\n",
    "                   'tmax': weather_data['TMAX'],\n",
    "                   'tmin': weather_data['TMIN'],\n",
    "                   'prcp': '0.00'}\n",
    "        print('error in this line:')\n",
    "        print(weather_data)\n",
    "    noaa_data.loc[len(noaa_data)] = new_row"
   ]
  },
  {
   "cell_type": "code",
   "execution_count": 59,
   "metadata": {},
   "outputs": [],
   "source": [
    "noaa_data.to_csv('../data/noaa_weather_data.csv', index=False)"
   ]
  },
  {
   "cell_type": "code",
   "execution_count": null,
   "metadata": {},
   "outputs": [],
   "source": []
  },
  {
   "cell_type": "code",
   "execution_count": null,
   "metadata": {},
   "outputs": [],
   "source": []
  },
  {
   "cell_type": "code",
   "execution_count": 43,
   "metadata": {},
   "outputs": [],
   "source": [
    "# If I need to request in batches, this is how to get a list of all the dates... and urls...\n",
    "# update : I do not need to request in batches, the API was able to deliver the full set of data from 2020-01-01 to 2025-03-31 in one url request"
   ]
  },
  {
   "cell_type": "code",
   "execution_count": 35,
   "metadata": {},
   "outputs": [
    {
     "name": "stdout",
     "output_type": "stream",
     "text": [
      "https://www.ncei.noaa.gov/access/services/data/v1?dataset=daily-summaries&stations=USW00013897&startDate=2020-01-01&endDate=2020-01-01&dataTypes=TMAX,TMIN,PRCP&units=standard&format=json\n",
      "https://www.ncei.noaa.gov/access/services/data/v1?dataset=daily-summaries&stations=USW00013897&startDate=2020-01-02&endDate=2020-01-02&dataTypes=TMAX,TMIN,PRCP&units=standard&format=json\n",
      "https://www.ncei.noaa.gov/access/services/data/v1?dataset=daily-summaries&stations=USW00013897&startDate=2020-01-03&endDate=2020-01-03&dataTypes=TMAX,TMIN,PRCP&units=standard&format=json\n",
      "https://www.ncei.noaa.gov/access/services/data/v1?dataset=daily-summaries&stations=USW00013897&startDate=2020-01-04&endDate=2020-01-04&dataTypes=TMAX,TMIN,PRCP&units=standard&format=json\n",
      "https://www.ncei.noaa.gov/access/services/data/v1?dataset=daily-summaries&stations=USW00013897&startDate=2020-01-05&endDate=2020-01-05&dataTypes=TMAX,TMIN,PRCP&units=standard&format=json\n",
      "... and so on...\n",
      "final url: https://www.ncei.noaa.gov/access/services/data/v1?dataset=daily-summaries&stations=USW00013897&startDate=2025-03-31&endDate=2025-03-31&dataTypes=TMAX,TMIN,PRCP&units=standard&format=json\n"
     ]
    }
   ],
   "source": [
    "startdate = datetime.date(2018,1,1)\n",
    "enddate = datetime.date(2025,3,31)\n",
    "\n",
    "# if I go this route, add a sleep timer to avoid bombarding their servers too much!\n",
    "# and maybe modify this code to request in batches of like 1 month or 10 days at a time, rather than just 1 at a time?\n",
    "# depends on how it goes trying to request the full 5-year-3-month chunk...\n",
    "\n",
    "i = 1\n",
    "\n",
    "requestdate = startdate\n",
    "while requestdate <= enddate :\n",
    "    url = 'https://www.ncei.noaa.gov/access/services/data/v1?dataset=daily-summaries&stations=USW00013897&startDate='\n",
    "    url +=  str(requestdate)\n",
    "    url += '&endDate='\n",
    "    url += str(requestdate)\n",
    "    url += '&dataTypes=TMAX,TMIN,PRCP&units=standard&format=json'\n",
    "    if i <= 5 :\n",
    "        print(url)\n",
    "    requestdate += datetime.timedelta(days=1)\n",
    "    i += 1\n",
    "\n",
    "print('... and so on...')\n",
    "print('final url: ' + url)"
   ]
  }
 ],
 "metadata": {
  "kernelspec": {
   "display_name": "Python [conda env:base] *",
   "language": "python",
   "name": "conda-base-py"
  },
  "language_info": {
   "codemirror_mode": {
    "name": "ipython",
    "version": 3
   },
   "file_extension": ".py",
   "mimetype": "text/x-python",
   "name": "python",
   "nbconvert_exporter": "python",
   "pygments_lexer": "ipython3",
   "version": "3.12.7"
  }
 },
 "nbformat": 4,
 "nbformat_minor": 4
}
