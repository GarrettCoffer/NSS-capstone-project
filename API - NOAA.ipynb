{
 "cells": [
  {
   "cell_type": "code",
   "execution_count": null,
   "metadata": {},
   "outputs": [],
   "source": [
    "# Next step: try collecting data from 1/1/2018-3/31/2025 !"
   ]
  },
  {
   "cell_type": "code",
   "execution_count": null,
   "metadata": {},
   "outputs": [],
   "source": [
    "# Try from this url:\n",
    "url = 'https://www.ncei.noaa.gov/access/services/data/v1?dataset=daily-summaries&stations=USW00013897&startDate=2020-01-01&endDate=2025-03-31&dataTypes=TMAX,TMIN,PRCP&units=standard&format=json'\n",
    "# If that doesn't work, work on looping through all the dates and requesting batches!"
   ]
  },
  {
   "cell_type": "code",
   "execution_count": null,
   "metadata": {},
   "outputs": [],
   "source": [
    "# note to self: update README with the url and output path when I have those and start wrapping this one up!"
   ]
  },
  {
   "cell_type": "code",
   "execution_count": null,
   "metadata": {},
   "outputs": [],
   "source": [
    "# get a list of all the dates... and urls..."
   ]
  },
  {
   "cell_type": "code",
   "execution_count": 23,
   "metadata": {},
   "outputs": [],
   "source": [
    "import datetime"
   ]
  },
  {
   "cell_type": "code",
   "execution_count": 35,
   "metadata": {},
   "outputs": [
    {
     "name": "stdout",
     "output_type": "stream",
     "text": [
      "https://www.ncei.noaa.gov/access/services/data/v1?dataset=daily-summaries&stations=USW00013897&startDate=2020-01-01&endDate=2020-01-01&dataTypes=TMAX,TMIN,PRCP&units=standard&format=json\n",
      "https://www.ncei.noaa.gov/access/services/data/v1?dataset=daily-summaries&stations=USW00013897&startDate=2020-01-02&endDate=2020-01-02&dataTypes=TMAX,TMIN,PRCP&units=standard&format=json\n",
      "https://www.ncei.noaa.gov/access/services/data/v1?dataset=daily-summaries&stations=USW00013897&startDate=2020-01-03&endDate=2020-01-03&dataTypes=TMAX,TMIN,PRCP&units=standard&format=json\n",
      "https://www.ncei.noaa.gov/access/services/data/v1?dataset=daily-summaries&stations=USW00013897&startDate=2020-01-04&endDate=2020-01-04&dataTypes=TMAX,TMIN,PRCP&units=standard&format=json\n",
      "https://www.ncei.noaa.gov/access/services/data/v1?dataset=daily-summaries&stations=USW00013897&startDate=2020-01-05&endDate=2020-01-05&dataTypes=TMAX,TMIN,PRCP&units=standard&format=json\n",
      "... and so on...\n",
      "final url: https://www.ncei.noaa.gov/access/services/data/v1?dataset=daily-summaries&stations=USW00013897&startDate=2025-03-31&endDate=2025-03-31&dataTypes=TMAX,TMIN,PRCP&units=standard&format=json\n"
     ]
    }
   ],
   "source": [
    "startdate = datetime.date(2018,1,1)\n",
    "enddate = datetime.date(2025,3,31)\n",
    "\n",
    "# if I go this route, add a sleep timer to avoid bombarding their servers too much!\n",
    "# and maybe modify this code to request in batches of like 1 month or 10 days at a time, rather than just 1 at a time?\n",
    "# depends on how it goes trying to request the full 5-year-3-month chunk...\n",
    "\n",
    "i = 1\n",
    "\n",
    "requestdate = startdate\n",
    "while requestdate <= enddate :\n",
    "    url = 'https://www.ncei.noaa.gov/access/services/data/v1?dataset=daily-summaries&stations=USW00013897&startDate='\n",
    "    url +=  str(requestdate)\n",
    "    url += '&endDate='\n",
    "    url += str(requestdate)\n",
    "    url += '&dataTypes=TMAX,TMIN,PRCP&units=standard&format=json'\n",
    "    if i <= 5 :\n",
    "        print(url)\n",
    "    requestdate += datetime.timedelta(days=1)\n",
    "    i += 1\n",
    "\n",
    "print('... and so on...')\n",
    "print('final url: ' + url)"
   ]
  },
  {
   "cell_type": "code",
   "execution_count": null,
   "metadata": {},
   "outputs": [],
   "source": [
    "today = datetime.date()\n",
    "tomorrow = today + datetime.timedelta(days=1)\n",
    "print(tomorrow)"
   ]
  },
  {
   "cell_type": "code",
   "execution_count": null,
   "metadata": {},
   "outputs": [],
   "source": []
  },
  {
   "cell_type": "code",
   "execution_count": 21,
   "metadata": {},
   "outputs": [
    {
     "name": "stdout",
     "output_type": "stream",
     "text": [
      "2025-03-31\n"
     ]
    }
   ],
   "source": [
    "import datetime\n",
    "\n",
    "today = datetime.date.today()\n",
    "tomorrow = today + datetime.timedelta(days=1)\n",
    "print(tomorrow)"
   ]
  },
  {
   "cell_type": "code",
   "execution_count": null,
   "metadata": {},
   "outputs": [],
   "source": []
  },
  {
   "cell_type": "code",
   "execution_count": 3,
   "metadata": {},
   "outputs": [],
   "source": [
    "import requests\n",
    "import matplotlib.pyplot as plt"
   ]
  },
  {
   "cell_type": "code",
   "execution_count": 4,
   "metadata": {},
   "outputs": [],
   "source": [
    "with open('../data/apikeys.json') as fi:\n",
    "    credentials = json.load(fi)"
   ]
  },
  {
   "cell_type": "code",
   "execution_count": 5,
   "metadata": {},
   "outputs": [],
   "source": [
    "api_key = credentials['noaa']"
   ]
  },
  {
   "cell_type": "code",
   "execution_count": 6,
   "metadata": {},
   "outputs": [],
   "source": [
    "endpoint = 'https://www.ncei.noaa.gov/access/services/search/v1/data?api_key=jrWndEKCwWnaUiPOzlOLDlVHDsnlCIXC&dataset=daily-summaries&startDate=2010-01-01T00:00:00&endDate=2016-12-31T23:09:59&boundingBox=35.462327,-82.563951,35.412327,-82.513951&dataTypes=PRCP&stations=USW00003812&limit=10&offset=0'\n",
    "\n",
    "response = requests.get(endpoint)"
   ]
  },
  {
   "cell_type": "code",
   "execution_count": 11,
   "metadata": {
    "scrolled": true
   },
   "outputs": [
    {
     "data": {
      "text/plain": [
       "<Response [400]>"
      ]
     },
     "execution_count": 11,
     "metadata": {},
     "output_type": "execute_result"
    }
   ],
   "source": [
    "response"
   ]
  },
  {
   "cell_type": "code",
   "execution_count": 13,
   "metadata": {},
   "outputs": [
    {
     "data": {
      "text/plain": [
       "<Response [400]>"
      ]
     },
     "execution_count": 13,
     "metadata": {},
     "output_type": "execute_result"
    }
   ],
   "source": [
    "import requests\n",
    "import numpy as np\n",
    "import pandas as pd\n",
    "import json\n",
    "from datetime import datetime\n",
    "import matplotlib.pyplot as plt\n",
    "\n",
    "\n",
    "Token = api_key\n",
    "\n",
    "station_id = 'GHCND:USW00023129'\n",
    "station_id1 = 'GHCND:USC00107689'\n",
    "station_id2 = 'GHCND:USW00003122'\n",
    "\n",
    "#initialize lists to store data\n",
    "dates_temp = []\n",
    "dates_prcp = []\n",
    "temps = []\n",
    "\n",
    "year='2024'\n",
    "    \n",
    "#this works!\n",
    "#r = requests.get('https://www.ncdc.noaa.gov/cdo-web/api/v2/data?datasetid=GHCND&datatypeid=TAVG&limit=1000&stationid='\n",
    "#                +station_id1+'&startdate='+year+'-01-01&enddate='+year+'-12-31', headers={'token':Token})\n",
    "\n",
    "#try this: https://www.ncei.noaa.gov/cdo-web/api/v2/data?dataset=global-summary-of-the-day&stations=USW00014037&startDate=2025-03-28&endDate=2025-03-28&dataTypes=TMAX,TMIN,PRCP&format=json\n",
    "r = requests.get('https://www.ncdc.noaa.gov/cdo-web/api/v2/data?dataset=global-summary-of-the-day&dataTypes=TMAX,TMIN,PRCP&stationid='\n",
    "                +station_id1+'&startdate='+year+'-01-01&enddate='+year+'-12-31', headers={'token':Token})\n",
    "    \n",
    "    #load the api response as a json\n",
    "r"
   ]
  },
  {
   "cell_type": "code",
   "execution_count": 17,
   "metadata": {},
   "outputs": [
    {
     "name": "stdout",
     "output_type": "stream",
     "text": [
      "<Response [200]>\n",
      "[\n",
      "{\"DATE\":\"2024-03-05\",\"STATION\":\"USW00013897\",\"TMAX\":\"64\",\"TMIN\":\"58\",\"PRCP\":\"0.52\"}\n",
      ",{\"DATE\":\"2024-03-06\",\"STATION\":\"USW00013897\",\"TMAX\":\"62\",\"TMIN\":\"55\",\"PRCP\":\"0.46\"}\n",
      "]\n",
      "\n"
     ]
    }
   ],
   "source": [
    "token = api_key\n",
    "headers = {\"token\":token}\n",
    "\n",
    "# works!\n",
    "# url = \"https://www.ncei.noaa.gov/access/services/data/v1?dataset=global-summary-of-the-year&dataTypes=DP01,DP05,DP10,DSND,DSNW,DT00,DT32,DX32,DX70,DX90,SNOW,PRCP&stations=ASN00084027&startDate=1952-01-01&endDate=1970-12-31&includeAttributes=true&format=json\"\n",
    "\n",
    "# this works!  But gives TMAX of 100, TMIN of 44, and PRCP of 38?!?!?\n",
    "#url = 'https://www.ncei.noaa.gov/access/services/data/v1?dataset=daily-summaries&stations=USC00406403&startDate=2024-03-02&endDate=2024-03-02&dataTypes=TMAX,TMIN,PRCP&format=json'\n",
    "\n",
    "#!!!!\n",
    "# this works!  TMAX 167, TMIN 128, PRCP 117 (10ths of degrees celcius, and 10th of mm of rainfall)\n",
    "#url = 'https://www.ncei.noaa.gov/access/services/data/v1?dataset=daily-summaries&stations=USW00013897&startDate=2024-03-06&endDate=2024-03-06&dataTypes=TMAX,TMIN,PRCP&format=json'\n",
    "url = 'https://www.ncei.noaa.gov/access/services/data/v1?dataset=daily-summaries&stations=USW00013897&startDate=2024-03-05&endDate=2024-03-06&dataTypes=TMAX,TMIN,PRCP&units=standard&format=json'\n",
    "#url = 'https://www.ncei.noaa.gov/access/services/data/v1?dataset=daily-summaries&stations=USW00013897&startDate=2024-03-06&endDate=2024-03-06&format=json'\n",
    "\n",
    "\n",
    "# url = 'https://www.ncei.noaa.gov/access/services/data/v1'\n",
    "\n",
    "r = requests.get(url, headers = headers)\n",
    "print(r)\n",
    "print(r.text)\n"
   ]
  },
  {
   "cell_type": "code",
   "execution_count": 21,
   "metadata": {},
   "outputs": [
    {
     "name": "stdout",
     "output_type": "stream",
     "text": [
      "<Response [200]>\n",
      "{\"metadata\":{\"resultset\":{\"offset\":1,\"count\":11,\"limit\":25}},\"results\":[{\"uid\":\"gov.noaa.ncdc:C00861\",\"mindate\":\"1763-01-01\",\"maxdate\":\"2025-03-28\",\"name\":\"Daily Summaries\",\"datacoverage\":1,\"id\":\"GHCND\"},{\"uid\":\"gov.noaa.ncdc:C00946\",\"mindate\":\"1763-01-01\",\"maxdate\":\"2025-03-01\",\"name\":\"Global Summary of the Month\",\"datacoverage\":1,\"id\":\"GSOM\"},{\"uid\":\"gov.noaa.ncdc:C00947\",\"mindate\":\"1763-01-01\",\"maxdate\":\"2025-01-01\",\"name\":\"Global Summary of the Year\",\"datacoverage\":1,\"id\":\"GSOY\"},{\"uid\":\"gov.noaa.ncdc:C00345\",\"mindate\":\"1991-06-05\",\"maxdate\":\"2025-03-29\",\"name\":\"Weather Radar (Level II)\",\"datacoverage\":0.95,\"id\":\"NEXRAD2\"},{\"uid\":\"gov.noaa.ncdc:C00708\",\"mindate\":\"1994-05-20\",\"maxdate\":\"2025-03-25\",\"name\":\"Weather Radar (Level III)\",\"datacoverage\":0.95,\"id\":\"NEXRAD3\"},{\"uid\":\"gov.noaa.ncdc:C00821\",\"mindate\":\"2010-01-01\",\"maxdate\":\"2010-01-01\",\"name\":\"Normals Annual/Seasonal\",\"datacoverage\":1,\"id\":\"NORMAL_ANN\"},{\"uid\":\"gov.noaa.ncdc:C00823\",\"mindate\":\"2010-01-01\",\"maxdate\":\"2010-12-31\",\"name\":\"Normals Daily\",\"datacoverage\":1,\"id\":\"NORMAL_DLY\"},{\"uid\":\"gov.noaa.ncdc:C00824\",\"mindate\":\"2010-01-01\",\"maxdate\":\"2010-12-31\",\"name\":\"Normals Hourly\",\"datacoverage\":1,\"id\":\"NORMAL_HLY\"},{\"uid\":\"gov.noaa.ncdc:C00822\",\"mindate\":\"2010-01-01\",\"maxdate\":\"2010-12-01\",\"name\":\"Normals Monthly\",\"datacoverage\":1,\"id\":\"NORMAL_MLY\"},{\"uid\":\"gov.noaa.ncdc:C00505\",\"mindate\":\"1970-05-12\",\"maxdate\":\"2014-01-01\",\"name\":\"Precipitation 15 Minute\",\"datacoverage\":0.25,\"id\":\"PRECIP_15\"},{\"uid\":\"gov.noaa.ncdc:C00313\",\"mindate\":\"1900-01-01\",\"maxdate\":\"2014-01-01\",\"name\":\"Precipitation Hourly\",\"datacoverage\":1,\"id\":\"PRECIP_HLY\"}]}\n"
     ]
    }
   ],
   "source": [
    "\n",
    "url = 'https://www.ncei.noaa.gov/cdo-web/api/v2/datasets'\n",
    "\n",
    "r = requests.get(url, headers = headers)\n",
    "print(r)\n",
    "print(r.text)"
   ]
  },
  {
   "cell_type": "code",
   "execution_count": 23,
   "metadata": {},
   "outputs": [
    {
     "name": "stdout",
     "output_type": "stream",
     "text": [
      "<Response [200]>\n"
     ]
    }
   ],
   "source": [
    "# Daily Summaries GHCND\n",
    "# Normals Hourly NORMAL_HLY\n",
    "# Precipitation Hourly PRECIP_HLY\n",
    "\n",
    "url = 'https://www.ncei.noaa.gov/cdo-web/api/v2/stations?locationid=FIPS:47&limit=1000'\n",
    "\n",
    "r = requests.get(url, headers = headers)\n",
    "print(r)\n",
    "#print(r.text)"
   ]
  },
  {
   "cell_type": "code",
   "execution_count": null,
   "metadata": {},
   "outputs": [],
   "source": []
  },
  {
   "cell_type": "code",
   "execution_count": null,
   "metadata": {},
   "outputs": [],
   "source": []
  },
  {
   "cell_type": "code",
   "execution_count": 25,
   "metadata": {},
   "outputs": [
    {
     "data": {
      "text/plain": [
       "'{\"metadata\":{\"resultset\":{\"offset\":1,\"count\":3988478,\"limit\":25}},\"results\":[{\"date\":\"2015-04-01T00:00:00\",\"datatype\":\"CLDD\",\"station\":\"GHCND:AE000041196\",\"attributes\":\"12,6\",\"value\":565},{\"date\":\"2015-04-01T00:00:00\",\"datatype\":\"DP01\",\"station\":\"GHCND:AE000041196\",\"attributes\":\"0,0\",\"value\":1},{\"date\":\"2015-04-01T00:00:00\",\"datatype\":\"DP05\",\"station\":\"GHCND:AE000041196\",\"attributes\":\"0,0\",\"value\":1},{\"date\":\"2015-04-01T00:00:00\",\"datatype\":\"DP10\",\"station\":\"GHCND:AE000041196\",\"attributes\":\"0,0\",\"value\":1},{\"date\":\"2015-04-01T00:00:00\",\"datatype\":\"DT00\",\"station\":\"GHCND:AE000041196\",\"attributes\":\"16,6\",\"value\":0},{\"date\":\"2015-04-01T00:00:00\",\"datatype\":\"DT32\",\"station\":\"GHCND:AE000041196\",\"attributes\":\"16,6\",\"value\":0},{\"date\":\"2015-04-01T00:00:00\",\"datatype\":\"DT90\",\"station\":\"GHCND:AE000041196\",\"attributes\":\"14,7\",\"value\":9},{\"date\":\"2015-04-01T00:00:00\",\"datatype\":\"DX32\",\"station\":\"GHCND:AE000041196\",\"attributes\":\"14,7\",\"value\":0},{\"date\":\"2015-04-01T00:00:00\",\"datatype\":\"EMNT\",\"station\":\"GHCND:AE000041196\",\"attributes\":\"16,6\",\"value\":190},{\"date\":\"2015-04-01T00:00:00\",\"datatype\":\"EMXP\",\"station\":\"GHCND:AE000041196\",\"attributes\":\"0,0\",\"value\":340},{\"date\":\"2015-04-01T00:00:00\",\"datatype\":\"EMXT\",\"station\":\"GHCND:AE000041196\",\"attributes\":\"14,7\",\"value\":410},{\"date\":\"2015-04-01T00:00:00\",\"datatype\":\"HTDD\",\"station\":\"GHCND:AE000041196\",\"attributes\":\"12,6\",\"value\":0},{\"date\":\"2015-04-01T00:00:00\",\"datatype\":\"MMNT\",\"station\":\"GHCND:AE000041196\",\"attributes\":\"16,6\",\"value\":211},{\"date\":\"2015-04-01T00:00:00\",\"datatype\":\"MMXT\",\"station\":\"GHCND:AE000041196\",\"attributes\":\"14,7\",\"value\":348},{\"date\":\"2015-04-01T00:00:00\",\"datatype\":\"MNTM\",\"station\":\"GHCND:AE000041196\",\"attributes\":\"12,6\",\"value\":277},{\"date\":\"2015-04-01T00:00:00\",\"datatype\":\"TPCP\",\"station\":\"GHCND:AE000041196\",\"attributes\":\"0,0\",\"value\":340},{\"date\":\"2015-04-01T00:00:00\",\"datatype\":\"CLDD\",\"station\":\"GHCND:AEM00041194\",\"attributes\":\"13,3\",\"value\":1003},{\"date\":\"2015-04-01T00:00:00\",\"datatype\":\"DP01\",\"station\":\"GHCND:AEM00041194\",\"attributes\":\"0,0\",\"value\":0},{\"date\":\"2015-04-01T00:00:00\",\"datatype\":\"DP05\",\"station\":\"GHCND:AEM00041194\",\"attributes\":\"0,0\",\"value\":0},{\"date\":\"2015-04-01T00:00:00\",\"datatype\":\"DP10\",\"station\":\"GHCND:AEM00041194\",\"attributes\":\"0,0\",\"value\":0},{\"date\":\"2015-04-01T00:00:00\",\"datatype\":\"DT00\",\"station\":\"GHCND:AEM00041194\",\"attributes\":\"15,4\",\"value\":0},{\"date\":\"2015-04-01T00:00:00\",\"datatype\":\"DT32\",\"station\":\"GHCND:AEM00041194\",\"attributes\":\"15,4\",\"value\":0},{\"date\":\"2015-04-01T00:00:00\",\"datatype\":\"DT90\",\"station\":\"GHCND:AEM00041194\",\"attributes\":\"7,2\",\"value\":16},{\"date\":\"2015-04-01T00:00:00\",\"datatype\":\"DX32\",\"station\":\"GHCND:AEM00041194\",\"attributes\":\"7,2\",\"value\":0},{\"date\":\"2015-04-01T00:00:00\",\"datatype\":\"EMNT\",\"station\":\"GHCND:AEM00041194\",\"attributes\":\"15,4\",\"value\":209}]}'"
      ]
     },
     "execution_count": 25,
     "metadata": {},
     "output_type": "execute_result"
    }
   ],
   "source": [
    "token = api_key\n",
    "\n",
    "url = \"http://www.ncdc.noaa.gov/cdo-web/api/v2/data?datasetid=GHCNDMS&startdate=2015-03-03&enddate=2025-03-03\"\n",
    "headers = {\"token\":token}\n",
    "\n",
    "r = requests.get(url, \"dataset\", headers = headers).text\n",
    "r"
   ]
  },
  {
   "cell_type": "code",
   "execution_count": null,
   "metadata": {},
   "outputs": [],
   "source": []
  }
 ],
 "metadata": {
  "kernelspec": {
   "display_name": "Python [conda env:base] *",
   "language": "python",
   "name": "conda-base-py"
  },
  "language_info": {
   "codemirror_mode": {
    "name": "ipython",
    "version": 3
   },
   "file_extension": ".py",
   "mimetype": "text/x-python",
   "name": "python",
   "nbconvert_exporter": "python",
   "pygments_lexer": "ipython3",
   "version": "3.12.7"
  }
 },
 "nbformat": 4,
 "nbformat_minor": 4
}
