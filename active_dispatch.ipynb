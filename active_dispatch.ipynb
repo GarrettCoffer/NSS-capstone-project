{
 "cells": [
  {
   "cell_type": "code",
   "execution_count": 1,
   "id": "52b1fa3d-abc8-40eb-8a88-4e739f223069",
   "metadata": {},
   "outputs": [],
   "source": [
    "import requests\n",
    "import json\n",
    "import pandas as pd\n",
    "import time"
   ]
  },
  {
   "cell_type": "code",
   "execution_count": 2,
   "id": "ddbffc1b-1594-491a-8ca5-ba59d798f72a",
   "metadata": {},
   "outputs": [],
   "source": [
    "endpoint = 'https://services2.arcgis.com/HdTo6HJqh92wn4D8/arcgis/rest/services/Metro_Nashville_Police_Department_Active_Dispatch_Table_view/FeatureServer/0/query?outFields=*&where=1%3D1&f=geojson'\n",
    "response = requests.get(endpoint)"
   ]
  },
  {
   "cell_type": "code",
   "execution_count": 30,
   "id": "0edd6abc-edf7-4827-b532-64915aa3b72e",
   "metadata": {
    "scrolled": true
   },
   "outputs": [
    {
     "data": {
      "text/plain": [
       "True"
      ]
     },
     "execution_count": 30,
     "metadata": {},
     "output_type": "execute_result"
    }
   ],
   "source": [
    "response.status_code == 200"
   ]
  },
  {
   "cell_type": "code",
   "execution_count": 4,
   "id": "ca173983-f913-4b99-8022-bf74d0c6dda7",
   "metadata": {},
   "outputs": [],
   "source": [
    "res = response.json()"
   ]
  },
  {
   "cell_type": "code",
   "execution_count": 5,
   "id": "1ef8d827-f7ec-4de8-9f89-3ebcf9807f9b",
   "metadata": {},
   "outputs": [
    {
     "data": {
      "text/plain": [
       "2"
      ]
     },
     "execution_count": 5,
     "metadata": {},
     "output_type": "execute_result"
    }
   ],
   "source": [
    "len(res)"
   ]
  },
  {
   "cell_type": "code",
   "execution_count": 6,
   "id": "a36fdc6e-989a-4592-9126-b400159da14d",
   "metadata": {},
   "outputs": [
    {
     "data": {
      "text/plain": [
       "dict_keys(['type', 'features'])"
      ]
     },
     "execution_count": 6,
     "metadata": {},
     "output_type": "execute_result"
    }
   ],
   "source": [
    "res.keys()"
   ]
  },
  {
   "cell_type": "code",
   "execution_count": 7,
   "id": "51f154f2-f72c-492c-a28a-76ccc5d73623",
   "metadata": {},
   "outputs": [
    {
     "data": {
      "text/plain": [
       "12"
      ]
     },
     "execution_count": 7,
     "metadata": {},
     "output_type": "execute_result"
    }
   ],
   "source": [
    "len(res['features'])"
   ]
  },
  {
   "cell_type": "code",
   "execution_count": 8,
   "id": "5f81d2f4-f9fa-437b-af3d-a409a972df87",
   "metadata": {},
   "outputs": [
    {
     "data": {
      "text/plain": [
       "{'type': 'Feature',\n",
       " 'id': 1,\n",
       " 'geometry': None,\n",
       " 'properties': {'IncidentTypeCode': '53A',\n",
       "  'IncidentTypeName': 'ROBERRY/HOLD UP ALARM',\n",
       "  'CallReceivedTime': 1743102883000,\n",
       "  'Location': '115 19TH AVE S',\n",
       "  'LocationDescription': None,\n",
       "  'CityName': 'MIDTOWN',\n",
       "  'LastUpdated': 1743103621000,\n",
       "  'ObjectId': 1}}"
      ]
     },
     "execution_count": 8,
     "metadata": {},
     "output_type": "execute_result"
    }
   ],
   "source": [
    "res['features'][0]"
   ]
  },
  {
   "cell_type": "code",
   "execution_count": 9,
   "id": "bf779189-b831-4720-90e3-9409dc534c70",
   "metadata": {},
   "outputs": [
    {
     "data": {
      "text/plain": [
       "{'IncidentTypeCode': '53A',\n",
       " 'IncidentTypeName': 'ROBERRY/HOLD UP ALARM',\n",
       " 'CallReceivedTime': 1743102883000,\n",
       " 'Location': '115 19TH AVE S',\n",
       " 'LocationDescription': None,\n",
       " 'CityName': 'MIDTOWN',\n",
       " 'LastUpdated': 1743103621000,\n",
       " 'ObjectId': 1}"
      ]
     },
     "execution_count": 9,
     "metadata": {},
     "output_type": "execute_result"
    }
   ],
   "source": [
    "res['features'][0]['properties']"
   ]
  },
  {
   "cell_type": "code",
   "execution_count": 10,
   "id": "ca54f701-643e-4f98-8a70-fce2d6ea5af6",
   "metadata": {},
   "outputs": [
    {
     "data": {
      "text/plain": [
       "'53A'"
      ]
     },
     "execution_count": 10,
     "metadata": {},
     "output_type": "execute_result"
    }
   ],
   "source": [
    "res['features'][0]['properties']['IncidentTypeCode']"
   ]
  },
  {
   "cell_type": "code",
   "execution_count": 11,
   "id": "78f2f134-4b47-460c-9afc-5355c8a24d1c",
   "metadata": {},
   "outputs": [],
   "source": [
    "active_dispatch = pd.DataFrame(columns = ['incident_type_code','incident_type_name','call_received_time','location',\n",
    "                                         'location_description','city_name','last_updated'])"
   ]
  },
  {
   "cell_type": "code",
   "execution_count": 12,
   "id": "1e12e7fc-7b23-4d01-bfca-f31d6a0bf523",
   "metadata": {},
   "outputs": [],
   "source": [
    "for incident in res['features'] :\n",
    "    new_row = {'incident_type_code': incident['properties']['IncidentTypeCode'],\n",
    "               'incident_type_name': incident['properties']['IncidentTypeName'],\n",
    "               'call_received_time': incident['properties']['CallReceivedTime'],\n",
    "               'location': incident['properties']['Location'],\n",
    "               'location_description': incident['properties']['LocationDescription'],\n",
    "               'city_name': incident['properties']['CityName'],\n",
    "               'last_updated': incident['properties']['LastUpdated']}\n",
    "    active_dispatch.loc[len(active_dispatch)] = new_row"
   ]
  },
  {
   "cell_type": "code",
   "execution_count": 13,
   "id": "f591b5bc-12a9-4576-b685-d64b523b401b",
   "metadata": {},
   "outputs": [
    {
     "data": {
      "text/html": [
       "<div>\n",
       "<style scoped>\n",
       "    .dataframe tbody tr th:only-of-type {\n",
       "        vertical-align: middle;\n",
       "    }\n",
       "\n",
       "    .dataframe tbody tr th {\n",
       "        vertical-align: top;\n",
       "    }\n",
       "\n",
       "    .dataframe thead th {\n",
       "        text-align: right;\n",
       "    }\n",
       "</style>\n",
       "<table border=\"1\" class=\"dataframe\">\n",
       "  <thead>\n",
       "    <tr style=\"text-align: right;\">\n",
       "      <th></th>\n",
       "      <th>incident_type_code</th>\n",
       "      <th>incident_type_name</th>\n",
       "      <th>call_received_time</th>\n",
       "      <th>location</th>\n",
       "      <th>location_description</th>\n",
       "      <th>city_name</th>\n",
       "      <th>last_updated</th>\n",
       "    </tr>\n",
       "  </thead>\n",
       "  <tbody>\n",
       "    <tr>\n",
       "      <th>0</th>\n",
       "      <td>53A</td>\n",
       "      <td>ROBERRY/HOLD UP ALARM</td>\n",
       "      <td>1743102883000</td>\n",
       "      <td>115 19TH AVE S</td>\n",
       "      <td>None</td>\n",
       "      <td>MIDTOWN</td>\n",
       "      <td>1743103621000</td>\n",
       "    </tr>\n",
       "    <tr>\n",
       "      <th>1</th>\n",
       "      <td>70A</td>\n",
       "      <td>RESIDENCE-BURGLARY ALARM</td>\n",
       "      <td>1743102139000</td>\n",
       "      <td>2328 DENNYWOOD DR</td>\n",
       "      <td>None</td>\n",
       "      <td>DONELSON</td>\n",
       "      <td>1743103621000</td>\n",
       "    </tr>\n",
       "    <tr>\n",
       "      <th>2</th>\n",
       "      <td>57P</td>\n",
       "      <td>FIGHT/ASSAULT</td>\n",
       "      <td>1743101676000</td>\n",
       "      <td>STATE ST / 18TH AVE N</td>\n",
       "      <td>None</td>\n",
       "      <td>MIDTOWN</td>\n",
       "      <td>1743103621000</td>\n",
       "    </tr>\n",
       "    <tr>\n",
       "      <th>3</th>\n",
       "      <td>70A</td>\n",
       "      <td>RESIDENCE-BURGLARY ALARM</td>\n",
       "      <td>1743100849000</td>\n",
       "      <td>3380 BROME LN</td>\n",
       "      <td>None</td>\n",
       "      <td>BORDEAUX</td>\n",
       "      <td>1743103621000</td>\n",
       "    </tr>\n",
       "    <tr>\n",
       "      <th>4</th>\n",
       "      <td>53P</td>\n",
       "      <td>HOLD UP ROBBERY IN PROGRESS</td>\n",
       "      <td>1743100442000</td>\n",
       "      <td>2806 GALLATIN PIKE</td>\n",
       "      <td>None</td>\n",
       "      <td>INGLEWOOD</td>\n",
       "      <td>1743103621000</td>\n",
       "    </tr>\n",
       "    <tr>\n",
       "      <th>5</th>\n",
       "      <td>57PJ</td>\n",
       "      <td>FIGHT/ASSAULT IN PROGRESS</td>\n",
       "      <td>1743099729000</td>\n",
       "      <td>5320 HICKORY HOLLOW PKWY</td>\n",
       "      <td>None</td>\n",
       "      <td>ANTIOCH</td>\n",
       "      <td>1743103621000</td>\n",
       "    </tr>\n",
       "    <tr>\n",
       "      <th>6</th>\n",
       "      <td>64P</td>\n",
       "      <td>CORPSE/D.O.A</td>\n",
       "      <td>1743097871000</td>\n",
       "      <td>3181 STONEYBROOK CIR</td>\n",
       "      <td>None</td>\n",
       "      <td>ANTIOCH</td>\n",
       "      <td>1743103621000</td>\n",
       "    </tr>\n",
       "    <tr>\n",
       "      <th>7</th>\n",
       "      <td>70A</td>\n",
       "      <td>RESIDENCE-BURGLARY ALARM</td>\n",
       "      <td>1743095110000</td>\n",
       "      <td>1236 BRENTWOOD HIGHLANDS DR</td>\n",
       "      <td>None</td>\n",
       "      <td>NIPPERS CORNER</td>\n",
       "      <td>1743103621000</td>\n",
       "    </tr>\n",
       "    <tr>\n",
       "      <th>8</th>\n",
       "      <td>71P</td>\n",
       "      <td>BURGLARY-NON-RESIDENCE BREAK-IN</td>\n",
       "      <td>1743094882000</td>\n",
       "      <td>360 WALLACE RD</td>\n",
       "      <td>None</td>\n",
       "      <td>PARAGON MILLS</td>\n",
       "      <td>1743103621000</td>\n",
       "    </tr>\n",
       "    <tr>\n",
       "      <th>9</th>\n",
       "      <td>83P</td>\n",
       "      <td>SHOTS FIRED</td>\n",
       "      <td>1743093178000</td>\n",
       "      <td>1433 PENNOCK AVE</td>\n",
       "      <td>None</td>\n",
       "      <td>EAST</td>\n",
       "      <td>1743103621000</td>\n",
       "    </tr>\n",
       "    <tr>\n",
       "      <th>10</th>\n",
       "      <td>71A</td>\n",
       "      <td>NON-RESIDENCE-BURGLARY ALARM</td>\n",
       "      <td>1743085918000</td>\n",
       "      <td>3188 DICKERSON PIKE</td>\n",
       "      <td>None</td>\n",
       "      <td>EAST</td>\n",
       "      <td>1743103621000</td>\n",
       "    </tr>\n",
       "    <tr>\n",
       "      <th>11</th>\n",
       "      <td>70A</td>\n",
       "      <td>RESIDENCE-BURGLARY ALARM</td>\n",
       "      <td>1743085667000</td>\n",
       "      <td>719 MYRTLE ST</td>\n",
       "      <td>None</td>\n",
       "      <td>EAST</td>\n",
       "      <td>1743103621000</td>\n",
       "    </tr>\n",
       "  </tbody>\n",
       "</table>\n",
       "</div>"
      ],
      "text/plain": [
       "   incident_type_code               incident_type_name  call_received_time  \\\n",
       "0                 53A            ROBERRY/HOLD UP ALARM       1743102883000   \n",
       "1                 70A         RESIDENCE-BURGLARY ALARM       1743102139000   \n",
       "2                 57P                    FIGHT/ASSAULT       1743101676000   \n",
       "3                 70A         RESIDENCE-BURGLARY ALARM       1743100849000   \n",
       "4                 53P      HOLD UP ROBBERY IN PROGRESS       1743100442000   \n",
       "5                57PJ        FIGHT/ASSAULT IN PROGRESS       1743099729000   \n",
       "6                 64P                     CORPSE/D.O.A       1743097871000   \n",
       "7                 70A         RESIDENCE-BURGLARY ALARM       1743095110000   \n",
       "8                 71P  BURGLARY-NON-RESIDENCE BREAK-IN       1743094882000   \n",
       "9                 83P                      SHOTS FIRED       1743093178000   \n",
       "10                71A     NON-RESIDENCE-BURGLARY ALARM       1743085918000   \n",
       "11                70A         RESIDENCE-BURGLARY ALARM       1743085667000   \n",
       "\n",
       "                       location location_description       city_name  \\\n",
       "0                115 19TH AVE S                 None         MIDTOWN   \n",
       "1             2328 DENNYWOOD DR                 None        DONELSON   \n",
       "2         STATE ST / 18TH AVE N                 None         MIDTOWN   \n",
       "3                 3380 BROME LN                 None        BORDEAUX   \n",
       "4            2806 GALLATIN PIKE                 None       INGLEWOOD   \n",
       "5      5320 HICKORY HOLLOW PKWY                 None         ANTIOCH   \n",
       "6          3181 STONEYBROOK CIR                 None         ANTIOCH   \n",
       "7   1236 BRENTWOOD HIGHLANDS DR                 None  NIPPERS CORNER   \n",
       "8                360 WALLACE RD                 None   PARAGON MILLS   \n",
       "9              1433 PENNOCK AVE                 None            EAST   \n",
       "10          3188 DICKERSON PIKE                 None            EAST   \n",
       "11                719 MYRTLE ST                 None            EAST   \n",
       "\n",
       "     last_updated  \n",
       "0   1743103621000  \n",
       "1   1743103621000  \n",
       "2   1743103621000  \n",
       "3   1743103621000  \n",
       "4   1743103621000  \n",
       "5   1743103621000  \n",
       "6   1743103621000  \n",
       "7   1743103621000  \n",
       "8   1743103621000  \n",
       "9   1743103621000  \n",
       "10  1743103621000  \n",
       "11  1743103621000  "
      ]
     },
     "execution_count": 13,
     "metadata": {},
     "output_type": "execute_result"
    }
   ],
   "source": [
    "active_dispatch"
   ]
  },
  {
   "cell_type": "code",
   "execution_count": 14,
   "id": "2b1b63fe-3694-4d6b-8c7a-c2874f2df716",
   "metadata": {},
   "outputs": [
    {
     "data": {
      "text/plain": [
       "12"
      ]
     },
     "execution_count": 14,
     "metadata": {},
     "output_type": "execute_result"
    }
   ],
   "source": [
    "len(active_dispatch)"
   ]
  },
  {
   "cell_type": "code",
   "execution_count": 15,
   "id": "0736fefb-cdb6-4c3c-adbe-2998c8aa9114",
   "metadata": {},
   "outputs": [],
   "source": [
    "if len(active_dispatch) > 0 :\n",
    "    last_updated = active_dispatch.loc[0,'last_updated']\n",
    "    last_updated\n",
    "    active_dispatch.to_csv('../data/active_dispatch/' + str(last_updated) + '.csv', index=False)"
   ]
  },
  {
   "cell_type": "code",
   "execution_count": null,
   "id": "38a430f9-1035-4924-8dde-966a0bd8c01d",
   "metadata": {},
   "outputs": [],
   "source": []
  },
  {
   "cell_type": "code",
   "execution_count": null,
   "id": "a614e973-dcae-419d-b7ce-bbecdb76078f",
   "metadata": {},
   "outputs": [],
   "source": []
  },
  {
   "cell_type": "code",
   "execution_count": null,
   "id": "b035566d-97ae-4852-860f-5441c01a67dd",
   "metadata": {},
   "outputs": [],
   "source": []
  },
  {
   "cell_type": "code",
   "execution_count": null,
   "id": "517b8fb6-9ac0-4013-a48f-2d551a5c3719",
   "metadata": {},
   "outputs": [],
   "source": []
  },
  {
   "cell_type": "code",
   "execution_count": null,
   "id": "68b09efe-046e-4808-823c-bf21db88a916",
   "metadata": {},
   "outputs": [
    {
     "name": "stdout",
     "output_type": "stream",
     "text": [
      "Starting imports\n",
      "Starting loop\n",
      "\n",
      "Iteration: 27"
     ]
    }
   ],
   "source": [
    "print('Starting imports')\n",
    "\n",
    "import requests\n",
    "import json\n",
    "import pandas as pd\n",
    "import time\n",
    "\n",
    "endpoint = 'https://services2.arcgis.com/HdTo6HJqh92wn4D8/arcgis/rest/services/Metro_Nashville_Police_Department_Active_Dispatch_Table_view/FeatureServer/0/query?outFields=*&where=1%3D1&f=geojson'\n",
    "\n",
    "i = 0\n",
    "\n",
    "print('Starting loop')\n",
    "print('')\n",
    "\n",
    "while True:\n",
    "    i += 1\n",
    "    print(f\"\\rIteration: {i}\", end=\"\")\n",
    "    try :\n",
    "        response = requests.get(endpoint)\n",
    "        if(response.status_code == 200) :\n",
    "            res = response.json()\n",
    "            active_dispatch = pd.DataFrame(columns = ['incident_type_code','incident_type_name','call_received_time','location',\n",
    "                                             'location_description','city_name','last_updated'])\n",
    "            for incident in res['features'] :\n",
    "                new_row = {'incident_type_code': incident['properties']['IncidentTypeCode'],\n",
    "                           'incident_type_name': incident['properties']['IncidentTypeName'],\n",
    "                           'call_received_time': incident['properties']['CallReceivedTime'],\n",
    "                           'location': incident['properties']['Location'],\n",
    "                           'location_description': incident['properties']['LocationDescription'],\n",
    "                           'city_name': incident['properties']['CityName'],\n",
    "                           'last_updated': incident['properties']['LastUpdated']}\n",
    "                active_dispatch.loc[len(active_dispatch)] = new_row\n",
    "            if len(active_dispatch) > 0 :\n",
    "                last_updated = active_dispatch.loc[0,'last_updated']\n",
    "                active_dispatch.to_csv('../data/active_dispatch/' + str(last_updated) + '.csv', index=False)\n",
    "        else :\n",
    "            print('')\n",
    "            print('Error!  Response : ' + str(response))\n",
    "    except requests.exceptions.RequestException as e:\n",
    "        print('')\n",
    "        print('Error!  Requests error : ' + str(e))\n",
    "    except:\n",
    "        print('')\n",
    "        print('Something else went wrong') \n",
    "    time.sleep(360) #360 checks every 6 minutes"
   ]
  },
  {
   "cell_type": "code",
   "execution_count": null,
   "id": "febaf7f7-9f9c-48c2-8eed-17f6e02a9e5e",
   "metadata": {},
   "outputs": [],
   "source": []
  },
  {
   "cell_type": "code",
   "execution_count": null,
   "id": "59433735-acd0-4d85-9528-8ed678798127",
   "metadata": {},
   "outputs": [],
   "source": []
  },
  {
   "cell_type": "code",
   "execution_count": null,
   "id": "1cc0e079-cf53-4d3a-9a2d-d1febdf0599d",
   "metadata": {},
   "outputs": [],
   "source": []
  },
  {
   "cell_type": "code",
   "execution_count": null,
   "id": "2a319472-9a61-4e65-9eb9-768a00fd0a83",
   "metadata": {},
   "outputs": [],
   "source": []
  },
  {
   "cell_type": "code",
   "execution_count": 20,
   "id": "76d2dc74-e9a6-44c4-bd11-8bf2682c3dc9",
   "metadata": {},
   "outputs": [
    {
     "name": "stdout",
     "output_type": "stream",
     "text": [
      "1743103621000.csv\n",
      "New Text Document.txt\n"
     ]
    }
   ],
   "source": [
    "import os\n",
    "\n",
    "files = [f for f in os.listdir('../data/active_dispatch/')]\n",
    "for file in files :\n",
    "    print(file)"
   ]
  },
  {
   "cell_type": "code",
   "execution_count": null,
   "id": "51f4cd7b-f7a2-41fa-861a-86a12aaabbb5",
   "metadata": {},
   "outputs": [],
   "source": []
  },
  {
   "cell_type": "code",
   "execution_count": null,
   "id": "8d2082b1-ab2f-43a5-a031-fdf279cb05f5",
   "metadata": {},
   "outputs": [],
   "source": []
  },
  {
   "cell_type": "code",
   "execution_count": null,
   "id": "e8aa915c-4e18-479d-bc8e-defd11c72535",
   "metadata": {},
   "outputs": [],
   "source": []
  },
  {
   "cell_type": "code",
   "execution_count": null,
   "id": "bb91f9a0-0acd-4af8-9093-1bf0a4def43e",
   "metadata": {},
   "outputs": [],
   "source": [
    "for i in range(10) :\n",
    "    print(f\"\\rIteration: {i}\", end=\"\")\n",
    "    if (i == 5) :\n",
    "        print('')\n",
    "        print('here!')\n",
    "    time.sleep(0.5)"
   ]
  },
  {
   "cell_type": "code",
   "execution_count": null,
   "id": "646c096b-52b9-407c-bae0-b0ffc6959a75",
   "metadata": {},
   "outputs": [],
   "source": [
    "import time\n",
    "\n",
    "for i in range(1,6) :\n",
    "    print(f\"\\rIteration: {i}\", end = \"\")\n",
    "    time.sleep(2)\n",
    "print(\"\")\n",
    "print(\"Done!\")"
   ]
  }
 ],
 "metadata": {
  "kernelspec": {
   "display_name": "Python [conda env:base] *",
   "language": "python",
   "name": "conda-base-py"
  },
  "language_info": {
   "codemirror_mode": {
    "name": "ipython",
    "version": 3
   },
   "file_extension": ".py",
   "mimetype": "text/x-python",
   "name": "python",
   "nbconvert_exporter": "python",
   "pygments_lexer": "ipython3",
   "version": "3.12.7"
  }
 },
 "nbformat": 4,
 "nbformat_minor": 5
}
