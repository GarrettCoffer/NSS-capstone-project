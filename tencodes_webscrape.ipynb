{
 "cells": [
  {
   "cell_type": "code",
   "execution_count": 89,
   "id": "15ed0522-11d4-4119-affc-90f90f76df2e",
   "metadata": {},
   "outputs": [],
   "source": [
    "import requests\n",
    "from bs4 import BeautifulSoup as BS\n",
    "import pandas as pd\n",
    "import re"
   ]
  },
  {
   "cell_type": "code",
   "execution_count": 3,
   "id": "6a1913c7-d98d-4fac-87b8-45b5017aa9fc",
   "metadata": {},
   "outputs": [],
   "source": [
    "URL = 'https://wiki.radioreference.com/index.php/Davidson_County_(TN)'"
   ]
  },
  {
   "cell_type": "code",
   "execution_count": 5,
   "id": "6204c54c-7fe2-4c08-a28b-f993ffb0714f",
   "metadata": {},
   "outputs": [],
   "source": [
    "response = requests.get(URL)"
   ]
  },
  {
   "cell_type": "code",
   "execution_count": 7,
   "id": "eb41130a-41b4-44f8-94ae-6bc06f2da5ac",
   "metadata": {},
   "outputs": [],
   "source": [
    "soup = BS(response.text)"
   ]
  },
  {
   "cell_type": "code",
   "execution_count": 59,
   "id": "7a54cff6-292c-4e5e-adb1-3c1365521a87",
   "metadata": {
    "scrolled": true
   },
   "outputs": [],
   "source": [
    "# html looks like:\n",
    "# <h3><span class=\"mw-headline\" id=\"Ten_Codes\">Ten Codes</span></h3>\n",
    "# <pre>-10-1 Receiving Poorly\n",
    "# -2 Receiving Well\n",
    "# -3 special assignment\n",
    "\n",
    "# Looking for the tag <h3> that contains <span class=\"mw-headline\" id=\"Ten_Codes\">, followed by a <pre>.\n",
    "# I want the contents of the <pre>"
   ]
  },
  {
   "cell_type": "code",
   "execution_count": 73,
   "id": "c787e2ec-3a3c-4b1f-b989-20941192ae71",
   "metadata": {},
   "outputs": [
    {
     "name": "stdout",
     "output_type": "stream",
     "text": [
      "Found it!  Assigned to p.\n"
     ]
    }
   ],
   "source": [
    "possibles = []\n",
    "i = 0\n",
    "\n",
    "for h in soup.findAll('h3') :\n",
    "    if 'Ten_Codes' in str(h) :\n",
    "        possibles.append(i)\n",
    "        #print(h.find_next_sibling('pre'))\n",
    "    i += 1\n",
    "\n",
    "if len(possibles) == 0 :\n",
    "    print('No results.  Look into the html again...')\n",
    "elif len(possibles) > 1 :\n",
    "    print('More than 1 result.  ' + str(len(possibles)) + ' found.  Look into the html again...')\n",
    "else :\n",
    "    print('Found it!  Assigned to p.')\n",
    "    p = soup.findAll('h3')[possibles[0]].find_next_sibling('pre')"
   ]
  },
  {
   "cell_type": "code",
   "execution_count": null,
   "id": "bc4e4da2-fced-40b9-a770-670e2dcc960f",
   "metadata": {},
   "outputs": [],
   "source": [
    "# get the first number before the first space, and everything after the first space (in proper case)\n",
    "# the first several examples are:\n",
    "# '-10-1 Receiving Poorly',      #  -- this one is unique, since it shows the 10 in 10-1.  Disregard that, for consistency.\n",
    "# '-2 Receiving Well',\n",
    "# '-3 special assignment'"
   ]
  },
  {
   "cell_type": "code",
   "execution_count": 101,
   "id": "c74e11a6-4fc7-4aa2-a075-9394fbf28423",
   "metadata": {},
   "outputs": [],
   "source": [
    "df = pd.DataFrame(columns = ['tencode','description'])"
   ]
  },
  {
   "cell_type": "code",
   "execution_count": 103,
   "id": "a08ed215-89cb-4cc0-85b0-f530bfc50d63",
   "metadata": {},
   "outputs": [],
   "source": [
    "for line in p.text.splitlines() :\n",
    "    match = re.search(r'(\\d+)\\s(.+)', line)    # search for a digit or multiple, followed by a space, followed by any number of any characters\n",
    "    if match :\n",
    "        code = match.group(1)\n",
    "        description = match.group(2).title()  # proper case it\n",
    "        new_row = {'tencode': code,\n",
    "                   'description': description}\n",
    "        df.loc[len(df)] = new_row\n",
    "    else :\n",
    "        print('Missed a match in a row... look into this and try again?')\n",
    "        print('Error when trying to match the line:')\n",
    "        print(line)"
   ]
  },
  {
   "cell_type": "code",
   "execution_count": 107,
   "id": "ec576c29-33d6-4bb6-baa0-fa0c4b5ee5cf",
   "metadata": {},
   "outputs": [
    {
     "data": {
      "text/html": [
       "<div>\n",
       "<style scoped>\n",
       "    .dataframe tbody tr th:only-of-type {\n",
       "        vertical-align: middle;\n",
       "    }\n",
       "\n",
       "    .dataframe tbody tr th {\n",
       "        vertical-align: top;\n",
       "    }\n",
       "\n",
       "    .dataframe thead th {\n",
       "        text-align: right;\n",
       "    }\n",
       "</style>\n",
       "<table border=\"1\" class=\"dataframe\">\n",
       "  <thead>\n",
       "    <tr style=\"text-align: right;\">\n",
       "      <th></th>\n",
       "      <th>tencode</th>\n",
       "      <th>description</th>\n",
       "    </tr>\n",
       "  </thead>\n",
       "  <tbody>\n",
       "    <tr>\n",
       "      <th>0</th>\n",
       "      <td>1</td>\n",
       "      <td>Receiving Poorly</td>\n",
       "    </tr>\n",
       "    <tr>\n",
       "      <th>1</th>\n",
       "      <td>2</td>\n",
       "      <td>Receiving Well</td>\n",
       "    </tr>\n",
       "    <tr>\n",
       "      <th>2</th>\n",
       "      <td>3</td>\n",
       "      <td>Special Assignment</td>\n",
       "    </tr>\n",
       "    <tr>\n",
       "      <th>3</th>\n",
       "      <td>4</td>\n",
       "      <td>Acknowledgement</td>\n",
       "    </tr>\n",
       "    <tr>\n",
       "      <th>4</th>\n",
       "      <td>7</td>\n",
       "      <td>Out Of Service</td>\n",
       "    </tr>\n",
       "    <tr>\n",
       "      <th>...</th>\n",
       "      <td>...</td>\n",
       "      <td>...</td>\n",
       "    </tr>\n",
       "    <tr>\n",
       "      <th>62</th>\n",
       "      <td>95</td>\n",
       "      <td>Lunch</td>\n",
       "    </tr>\n",
       "    <tr>\n",
       "      <th>63</th>\n",
       "      <td>96</td>\n",
       "      <td>Business Check</td>\n",
       "    </tr>\n",
       "    <tr>\n",
       "      <th>64</th>\n",
       "      <td>97</td>\n",
       "      <td>Arrived On Scene</td>\n",
       "    </tr>\n",
       "    <tr>\n",
       "      <th>65</th>\n",
       "      <td>98</td>\n",
       "      <td>Assignment Complete</td>\n",
       "    </tr>\n",
       "    <tr>\n",
       "      <th>66</th>\n",
       "      <td>99</td>\n",
       "      <td>Advise Complaint Number</td>\n",
       "    </tr>\n",
       "  </tbody>\n",
       "</table>\n",
       "<p>67 rows × 2 columns</p>\n",
       "</div>"
      ],
      "text/plain": [
       "   tencode              description\n",
       "0        1         Receiving Poorly\n",
       "1        2           Receiving Well\n",
       "2        3       Special Assignment\n",
       "3        4          Acknowledgement\n",
       "4        7           Out Of Service\n",
       "..     ...                      ...\n",
       "62      95                    Lunch\n",
       "63      96           Business Check\n",
       "64      97         Arrived On Scene\n",
       "65      98      Assignment Complete\n",
       "66      99  Advise Complaint Number\n",
       "\n",
       "[67 rows x 2 columns]"
      ]
     },
     "execution_count": 107,
     "metadata": {},
     "output_type": "execute_result"
    }
   ],
   "source": [
    "# look at the df\n",
    "df"
   ]
  },
  {
   "cell_type": "code",
   "execution_count": 109,
   "id": "da04d03a-4e4c-4148-9b42-b265f67c23bc",
   "metadata": {},
   "outputs": [],
   "source": [
    "# save the csv\n",
    "df.to_csv('../data/tencodes.csv', index=False)"
   ]
  }
 ],
 "metadata": {
  "kernelspec": {
   "display_name": "Python [conda env:base] *",
   "language": "python",
   "name": "conda-base-py"
  },
  "language_info": {
   "codemirror_mode": {
    "name": "ipython",
    "version": 3
   },
   "file_extension": ".py",
   "mimetype": "text/x-python",
   "name": "python",
   "nbconvert_exporter": "python",
   "pygments_lexer": "ipython3",
   "version": "3.12.7"
  }
 },
 "nbformat": 4,
 "nbformat_minor": 5
}
